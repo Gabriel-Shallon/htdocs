{
 "cells": [
  {
   "cell_type": "markdown",
   "id": "78fb7ad7-3ae4-41dd-85d0-a3ce15448e6b",
   "metadata": {},
   "source": [
    "<h1>Conhecendo os dados e o ambiente Jupyter</h1>"
   ]
  },
  {
   "cell_type": "markdown",
   "id": "e1080ccb-02a3-40fb-9d41-e715ee2e7418",
   "metadata": {},
   "source": [
    "<h2>Conhecendo o Jupyter Notebook</h2>"
   ]
  },
  {
   "cell_type": "markdown",
   "id": "48792330-f627-4b2b-b3a5-e785e80da56b",
   "metadata": {},
   "source": [
    "O Jupyter notebook é um ambiente interativo que permite criar e compartilhar documentos com código executável (mais comumente python), visualizações e texto explicativo. \n",
    "\n",
    "Muito popular em ciência de dados, pois permite uma execução passo a passo dos códigos, o que permite acompanhar os resultados em tempo real, além de ser ideal para documentar a análise. Neste tutorial, seguiremos um passo a passo que começa com conceitos básicos e avança até a análise de dados em um dataset. Este notebook foi propositalmente elaborado com um nível de detalhamento elevado, para ajudar no entendimento de cada etapa.\n",
    "\n",
    "Os notebooks são salvos com a extensão .ipynb, que pode ser compartilhada diretamente ou exportada para HTML, PDF ou script Python."
   ]
  },
  {
   "cell_type": "markdown",
   "id": "43191d43",
   "metadata": {},
   "source": [
    "### Estrutura do Notebook"
   ]
  },
  {
   "cell_type": "markdown",
   "id": "847e05db",
   "metadata": {},
   "source": [
    "O notebook é composto por células que podem conter:\n",
    "\n",
    "- <strong>Código</strong>: onde você escreve e executa o código (exemplo: <code>print(\"Hello, world!\")</code>).\n",
    "- <strong>Texto (Markdown)</strong>: onde você adiciona textos explicativos com formatação, listas, links, imagens, etc.\n",
    "\n",
    "Para alternar entre esses tipos de célula, selecione a célula e, na barra superior, escolha entre \"Code\" (para código) ou \"Markdown\" (para texto)."
   ]
  },
  {
   "cell_type": "markdown",
   "id": "6a0686e5",
   "metadata": {},
   "source": [
    "### Executando Código"
   ]
  },
  {
   "cell_type": "markdown",
   "id": "e9f3e821",
   "metadata": {},
   "source": [
    "- Escreva o código em uma célula e pressione <code>Shift + Enter</code> para executá-lo. O resultado aparecerá logo abaixo da célula.\n",
    "- As células de código são numeradas sequencialmente. Essa numeração ajuda a rastrear a ordem de execução das células.\n",
    " - Cada célula de código tem um número ao lado (por exemplo, <code>[1])</code>, indicando a ordem de execução. Isso é útil para acompanhar a sequência de processamento.\n",
    "- <strong>Run All</strong> (Executar Tudo): permite executar todas as células de uma vez, o que é útil ao querer rodar o notebook inteiro."
   ]
  },
  {
   "cell_type": "markdown",
   "id": "c68c8976",
   "metadata": {},
   "source": [
    "### Gerenciamento de Kernels"
   ]
  },
  {
   "cell_type": "markdown",
   "id": "8c85dac4",
   "metadata": {},
   "source": [
    "- O <strong>Kernel</strong> é o motor que executa o código. Se uma célula entra em loop ou leva muito tempo para processar, você pode interromper o kernel para parar a execução.\n",
    "- Reiniciar o kernel redefine todas as variáveis e permite rodar o notebook desde o início. Isso pode ser feito na barra de ferramentas em \"Kernel > Restart\"."
   ]
  },
  {
   "cell_type": "markdown",
   "id": "9c0633fb",
   "metadata": {},
   "source": [
    "### Primeiro Exemplo"
   ]
  },
  {
   "cell_type": "markdown",
   "id": "f2b47a01-2cec-4f26-867a-d7677ba0d95e",
   "metadata": {},
   "source": [
    "Vamos lá! O primeiro passo é a criação de uma variável. Para tanto, usaremos o célula do tipo código (<code>code</code>)."
   ]
  },
  {
   "cell_type": "code",
   "execution_count": 44,
   "id": "7fe757a1-faa3-43d6-99c0-09efdb7faa52",
   "metadata": {},
   "outputs": [],
   "source": [
    "carro = \"fusca\""
   ]
  },
  {
   "cell_type": "markdown",
   "id": "6b457e4c-9edb-4bc3-8b40-bb39d71652c4",
   "metadata": {},
   "source": [
    "Imprimindo o valor de uma variável (carro)"
   ]
  },
  {
   "cell_type": "code",
   "execution_count": 45,
   "id": "522588dc-f6b9-46a9-8135-11c2b0ba8f23",
   "metadata": {},
   "outputs": [
    {
     "name": "stdout",
     "output_type": "stream",
     "text": [
      "fusca\n"
     ]
    }
   ],
   "source": [
    "print(carro)"
   ]
  },
  {
   "cell_type": "markdown",
   "id": "cc95068b-a93a-4a74-97f3-d9c706d9e1c9",
   "metadata": {},
   "source": [
    "Exercite: crie duas variáveis, uma chamada <code>name</code> e outra <code>idade</code>, atribua seu respectivo nome e idade e imprima na tela"
   ]
  },
  {
   "cell_type": "code",
   "execution_count": 3,
   "id": "e451612f-d164-4ecc-908f-bc1286c682f8",
   "metadata": {},
   "outputs": [
    {
     "name": "stdout",
     "output_type": "stream",
     "text": [
      "Vitor\n",
      "29\n"
     ]
    }
   ],
   "source": [
    "nome = \"Vitor\"\n",
    "idade = 29\n",
    "print(nome)\n",
    "print(idade)"
   ]
  },
  {
   "cell_type": "markdown",
   "id": "88fc383f",
   "metadata": {},
   "source": [
    "Vamos executar outro exemplo de código que cria e imprime um array usando a biblioteca NumPy."
   ]
  },
  {
   "cell_type": "code",
   "execution_count": 46,
   "id": "928ef208",
   "metadata": {},
   "outputs": [
    {
     "name": "stdout",
     "output_type": "stream",
     "text": [
      "Array: [1 2 3 4 5]\n"
     ]
    }
   ],
   "source": [
    "import numpy as np\n",
    "\n",
    "# Criando um array simples\n",
    "arr = np.array([1, 2, 3, 4, 5])\n",
    "print(\"Array:\", arr)"
   ]
  },
  {
   "cell_type": "markdown",
   "id": "5e754424",
   "metadata": {},
   "source": [
    "Seu o seu ambiente estiver configurado corretamente, o código acima deverá ter sido executado com sucesso."
   ]
  },
  {
   "cell_type": "markdown",
   "id": "026f3fc5-57a0-4c80-b5c8-3c32e31315c5",
   "metadata": {},
   "source": [
    "<h1>1. Trabalhando com o dataset ratings.csv do conjunto de dados MovieLens </h1>"
   ]
  },
  {
   "cell_type": "markdown",
   "id": "80f56a9a-4685-4bf3-a9ed-7ec471d6b7ad",
   "metadata": {},
   "source": [
    "O que é um arquivo .csv?\n",
    "Um arquivo CSV (Comma-Separated Values) é um tipo de arquivo de texto simples usado para armazenar dados estruturados em tabelas, como planilhas. Cada linha do arquivo representa uma linha de dados, e os valores em cada linha são separados por uma vírgula ou outro delimitador como o ponto e vírgula, a primeira linha contém os cabeçalhos das colunas, Cada linha subsequente representa um registro de dados, com valores para cada coluna separados por vírgula, arquivos CSV são muito utilizados para importar e exportar dados entre diferentes programas.\n"
   ]
  },
  {
   "cell_type": "markdown",
   "id": "3fdfae7a",
   "metadata": {},
   "source": [
    "Faça você mesmo! Abra o arquivo CSV no editor de texto e veja a estrutura do documento."
   ]
  },
  {
   "cell_type": "markdown",
   "id": "186dc836-682e-44e9-a338-e3526b2c5cb9",
   "metadata": {},
   "source": [
    "<h2>Pandas e importação do dataset</h2>"
   ]
  },
  {
   "cell_type": "markdown",
   "id": "ba051160-4818-4319-9a85-155b610d02fe",
   "metadata": {},
   "source": [
    "O que é Pandas: Pandas é uma biblioteca de código aberto em Python amplamente utilizada para manipulação e análise de dados. Ela fornece estruturas de dados e ferramentas de alto desempenho para trabalhar com tabelas de dados, séries temporais e dados estruturados de forma eficiente"
   ]
  },
  {
   "cell_type": "code",
   "execution_count": 1,
   "id": "eeef1de7-6467-4aeb-afe6-1d5f6609ea26",
   "metadata": {},
   "outputs": [],
   "source": [
    "#Importando o pandas\n",
    "import pandas as pd"
   ]
  },
  {
   "cell_type": "code",
   "execution_count": 23,
   "id": "d2401173-ee2a-43cc-82f1-80a0ca715038",
   "metadata": {},
   "outputs": [
    {
     "data": {
      "text/html": [
       "<div>\n",
       "<style scoped>\n",
       "    .dataframe tbody tr th:only-of-type {\n",
       "        vertical-align: middle;\n",
       "    }\n",
       "\n",
       "    .dataframe tbody tr th {\n",
       "        vertical-align: top;\n",
       "    }\n",
       "\n",
       "    .dataframe thead th {\n",
       "        text-align: right;\n",
       "    }\n",
       "</style>\n",
       "<table border=\"1\" class=\"dataframe\">\n",
       "  <thead>\n",
       "    <tr style=\"text-align: right;\">\n",
       "      <th></th>\n",
       "      <th>userId</th>\n",
       "      <th>movieId</th>\n",
       "      <th>rating</th>\n",
       "      <th>timestamp</th>\n",
       "    </tr>\n",
       "  </thead>\n",
       "  <tbody>\n",
       "    <tr>\n",
       "      <th>0</th>\n",
       "      <td>1</td>\n",
       "      <td>1</td>\n",
       "      <td>4.0</td>\n",
       "      <td>964982703</td>\n",
       "    </tr>\n",
       "    <tr>\n",
       "      <th>1</th>\n",
       "      <td>1</td>\n",
       "      <td>3</td>\n",
       "      <td>4.0</td>\n",
       "      <td>964981247</td>\n",
       "    </tr>\n",
       "    <tr>\n",
       "      <th>2</th>\n",
       "      <td>1</td>\n",
       "      <td>6</td>\n",
       "      <td>4.0</td>\n",
       "      <td>964982224</td>\n",
       "    </tr>\n",
       "    <tr>\n",
       "      <th>3</th>\n",
       "      <td>1</td>\n",
       "      <td>47</td>\n",
       "      <td>5.0</td>\n",
       "      <td>964983815</td>\n",
       "    </tr>\n",
       "    <tr>\n",
       "      <th>4</th>\n",
       "      <td>1</td>\n",
       "      <td>50</td>\n",
       "      <td>5.0</td>\n",
       "      <td>964982931</td>\n",
       "    </tr>\n",
       "    <tr>\n",
       "      <th>...</th>\n",
       "      <td>...</td>\n",
       "      <td>...</td>\n",
       "      <td>...</td>\n",
       "      <td>...</td>\n",
       "    </tr>\n",
       "    <tr>\n",
       "      <th>100831</th>\n",
       "      <td>610</td>\n",
       "      <td>166534</td>\n",
       "      <td>4.0</td>\n",
       "      <td>1493848402</td>\n",
       "    </tr>\n",
       "    <tr>\n",
       "      <th>100832</th>\n",
       "      <td>610</td>\n",
       "      <td>168248</td>\n",
       "      <td>5.0</td>\n",
       "      <td>1493850091</td>\n",
       "    </tr>\n",
       "    <tr>\n",
       "      <th>100833</th>\n",
       "      <td>610</td>\n",
       "      <td>168250</td>\n",
       "      <td>5.0</td>\n",
       "      <td>1494273047</td>\n",
       "    </tr>\n",
       "    <tr>\n",
       "      <th>100834</th>\n",
       "      <td>610</td>\n",
       "      <td>168252</td>\n",
       "      <td>5.0</td>\n",
       "      <td>1493846352</td>\n",
       "    </tr>\n",
       "    <tr>\n",
       "      <th>100835</th>\n",
       "      <td>610</td>\n",
       "      <td>170875</td>\n",
       "      <td>3.0</td>\n",
       "      <td>1493846415</td>\n",
       "    </tr>\n",
       "  </tbody>\n",
       "</table>\n",
       "<p>100836 rows × 4 columns</p>\n",
       "</div>"
      ],
      "text/plain": [
       "        userId  movieId  rating   timestamp\n",
       "0            1        1     4.0   964982703\n",
       "1            1        3     4.0   964981247\n",
       "2            1        6     4.0   964982224\n",
       "3            1       47     5.0   964983815\n",
       "4            1       50     5.0   964982931\n",
       "...        ...      ...     ...         ...\n",
       "100831     610   166534     4.0  1493848402\n",
       "100832     610   168248     5.0  1493850091\n",
       "100833     610   168250     5.0  1494273047\n",
       "100834     610   168252     5.0  1493846352\n",
       "100835     610   170875     3.0  1493846415\n",
       "\n",
       "[100836 rows x 4 columns]"
      ]
     },
     "execution_count": 23,
     "metadata": {},
     "output_type": "execute_result"
    }
   ],
   "source": [
    "#importando o dataset e atribuindo em uma variável\n",
    "notas = pd.read_csv(\"ratings.csv\")\n",
    "notas"
   ]
  },
  {
   "cell_type": "markdown",
   "id": "0ed6c0ae-8f00-4e22-8d55-94d58dba1da6",
   "metadata": {},
   "source": [
    "<h2>Shape</h2>"
   ]
  },
  {
   "cell_type": "markdown",
   "id": "4e957a50-bb1c-4e7d-bd78-881e1b1762b9",
   "metadata": {},
   "source": [
    "Shape é um atributor de objetos DataFrame e Séries, ele retorna o número de linhas e colunas de um DataFrame ou apenas o número de linhas de uma Séries"
   ]
  },
  {
   "cell_type": "code",
   "execution_count": 24,
   "id": "1b780224-40a2-4109-ba97-04e1a229e16b",
   "metadata": {},
   "outputs": [
    {
     "data": {
      "text/plain": [
       "(100836, 4)"
      ]
     },
     "execution_count": 24,
     "metadata": {},
     "output_type": "execute_result"
    }
   ],
   "source": [
    "notas.shape"
   ]
  },
  {
   "cell_type": "markdown",
   "id": "ca95e6a0-2f42-40ea-bea6-84db0b3d12fd",
   "metadata": {},
   "source": [
    "<h2>Colunas</h2>"
   ]
  },
  {
   "cell_type": "markdown",
   "id": "5f117fb7-fbe7-4ad5-a70d-f89d70026fef",
   "metadata": {},
   "source": [
    "Caso necessário, podemos alterar o nome das nossas colunas"
   ]
  },
  {
   "cell_type": "code",
   "execution_count": 25,
   "id": "3a031ecf-0c7d-4437-915a-8522abd531c0",
   "metadata": {},
   "outputs": [],
   "source": [
    "notas.columns = [\"usuarioId\", \"filmeId\", \"nota\", \"momento\"]"
   ]
  },
  {
   "cell_type": "markdown",
   "id": "00072508-a6ec-4bd8-803e-297ba400c0dd",
   "metadata": {},
   "source": [
    "Vamos consultar a alteração feita utilizando o método head(), que nos retorna apenas as cinco primeiras linhas do DataFrame"
   ]
  },
  {
   "cell_type": "code",
   "execution_count": 48,
   "id": "19d6c21a-8a93-45b3-9a44-5fed9ff8a817",
   "metadata": {},
   "outputs": [
    {
     "data": {
      "text/html": [
       "<div>\n",
       "<style scoped>\n",
       "    .dataframe tbody tr th:only-of-type {\n",
       "        vertical-align: middle;\n",
       "    }\n",
       "\n",
       "    .dataframe tbody tr th {\n",
       "        vertical-align: top;\n",
       "    }\n",
       "\n",
       "    .dataframe thead th {\n",
       "        text-align: right;\n",
       "    }\n",
       "</style>\n",
       "<table border=\"1\" class=\"dataframe\">\n",
       "  <thead>\n",
       "    <tr style=\"text-align: right;\">\n",
       "      <th></th>\n",
       "      <th>usuarioId</th>\n",
       "      <th>filmeId</th>\n",
       "      <th>nota</th>\n",
       "      <th>momento</th>\n",
       "    </tr>\n",
       "  </thead>\n",
       "  <tbody>\n",
       "    <tr>\n",
       "      <th>100826</th>\n",
       "      <td>610</td>\n",
       "      <td>162350</td>\n",
       "      <td>3.5</td>\n",
       "      <td>1493849971</td>\n",
       "    </tr>\n",
       "    <tr>\n",
       "      <th>100827</th>\n",
       "      <td>610</td>\n",
       "      <td>163937</td>\n",
       "      <td>3.5</td>\n",
       "      <td>1493848789</td>\n",
       "    </tr>\n",
       "    <tr>\n",
       "      <th>100828</th>\n",
       "      <td>610</td>\n",
       "      <td>163981</td>\n",
       "      <td>3.5</td>\n",
       "      <td>1493850155</td>\n",
       "    </tr>\n",
       "    <tr>\n",
       "      <th>100829</th>\n",
       "      <td>610</td>\n",
       "      <td>164179</td>\n",
       "      <td>5.0</td>\n",
       "      <td>1493845631</td>\n",
       "    </tr>\n",
       "    <tr>\n",
       "      <th>100830</th>\n",
       "      <td>610</td>\n",
       "      <td>166528</td>\n",
       "      <td>4.0</td>\n",
       "      <td>1493879365</td>\n",
       "    </tr>\n",
       "    <tr>\n",
       "      <th>100831</th>\n",
       "      <td>610</td>\n",
       "      <td>166534</td>\n",
       "      <td>4.0</td>\n",
       "      <td>1493848402</td>\n",
       "    </tr>\n",
       "    <tr>\n",
       "      <th>100832</th>\n",
       "      <td>610</td>\n",
       "      <td>168248</td>\n",
       "      <td>5.0</td>\n",
       "      <td>1493850091</td>\n",
       "    </tr>\n",
       "    <tr>\n",
       "      <th>100833</th>\n",
       "      <td>610</td>\n",
       "      <td>168250</td>\n",
       "      <td>5.0</td>\n",
       "      <td>1494273047</td>\n",
       "    </tr>\n",
       "    <tr>\n",
       "      <th>100834</th>\n",
       "      <td>610</td>\n",
       "      <td>168252</td>\n",
       "      <td>5.0</td>\n",
       "      <td>1493846352</td>\n",
       "    </tr>\n",
       "    <tr>\n",
       "      <th>100835</th>\n",
       "      <td>610</td>\n",
       "      <td>170875</td>\n",
       "      <td>3.0</td>\n",
       "      <td>1493846415</td>\n",
       "    </tr>\n",
       "  </tbody>\n",
       "</table>\n",
       "</div>"
      ],
      "text/plain": [
       "        usuarioId  filmeId  nota     momento\n",
       "100826        610   162350   3.5  1493849971\n",
       "100827        610   163937   3.5  1493848789\n",
       "100828        610   163981   3.5  1493850155\n",
       "100829        610   164179   5.0  1493845631\n",
       "100830        610   166528   4.0  1493879365\n",
       "100831        610   166534   4.0  1493848402\n",
       "100832        610   168248   5.0  1493850091\n",
       "100833        610   168250   5.0  1494273047\n",
       "100834        610   168252   5.0  1493846352\n",
       "100835        610   170875   3.0  1493846415"
      ]
     },
     "execution_count": 48,
     "metadata": {},
     "output_type": "execute_result"
    }
   ],
   "source": [
    "notas.head(10)"
   ]
  },
  {
   "cell_type": "markdown",
   "id": "d9661d6c-4d18-4f5e-b283-6ac9d6538134",
   "metadata": {},
   "source": [
    "Podemos consultar apenas uma coluna de um DataFrame"
   ]
  },
  {
   "cell_type": "code",
   "execution_count": 27,
   "id": "f5ef0af3-0cc5-48bb-8031-561be51b9168",
   "metadata": {},
   "outputs": [
    {
     "data": {
      "text/plain": [
       "0          964982703\n",
       "1          964981247\n",
       "2          964982224\n",
       "3          964983815\n",
       "4          964982931\n",
       "             ...    \n",
       "100831    1493848402\n",
       "100832    1493850091\n",
       "100833    1494273047\n",
       "100834    1493846352\n",
       "100835    1493846415\n",
       "Name: momento, Length: 100836, dtype: int64"
      ]
     },
     "execution_count": 27,
     "metadata": {},
     "output_type": "execute_result"
    }
   ],
   "source": [
    "notas[\"momento\"]"
   ]
  },
  {
   "cell_type": "markdown",
   "id": "3894c6dc-886f-44e0-ab32-7b792dd6c31c",
   "metadata": {},
   "source": [
    "Quanto temos apenas uma coluna, chamamos esse conjunto de dados de Series"
   ]
  },
  {
   "cell_type": "markdown",
   "id": "4968292c-cca2-46ab-becc-ac94e5ea11f9",
   "metadata": {},
   "source": [
    "<h2>Unique</h2>"
   ]
  },
  {
   "cell_type": "markdown",
   "id": "0e8c3831-5da5-4dcf-8cc1-76c376b53235",
   "metadata": {},
   "source": [
    "Usando o método unique, uma lista dos valores únicos de uma colune ou Serie é retornado"
   ]
  },
  {
   "cell_type": "code",
   "execution_count": 28,
   "id": "c6863593-cba3-4e3c-aac4-af96273ff0a2",
   "metadata": {},
   "outputs": [
    {
     "data": {
      "text/plain": [
       "array([4. , 5. , 3. , 2. , 1. , 4.5, 3.5, 2.5, 0.5, 1.5])"
      ]
     },
     "execution_count": 28,
     "metadata": {},
     "output_type": "execute_result"
    }
   ],
   "source": [
    "notas[\"nota\"].unique()"
   ]
  },
  {
   "cell_type": "markdown",
   "id": "b3c5dc1e-0a95-4149-9a41-ebb67340eaab",
   "metadata": {},
   "source": [
    "Inicialmente, podemos deduzir que a nota zero não existe, já que ela não apareceu nesse array, mas não podemos afirmar isso, pois apenas extraímos as notas que as pessoas deram, não as possíveis notas, por isso quando fazemos uma análise de dados, é importante saber o contexto do dataset analisado"
   ]
  },
  {
   "cell_type": "markdown",
   "id": "52ae70b9-2b4b-44b1-b58b-e9c299d09372",
   "metadata": {},
   "source": [
    "<h2>Value Counts</h2>"
   ]
  },
  {
   "cell_type": "markdown",
   "id": "3e94b3cc-5603-4750-b92b-b7f3d3927477",
   "metadata": {},
   "source": [
    "Agora queremos saber qual a frequencia que cada valor se repente na coluna nota, podemos fazer isso usando m método value_conts() que retorna a frequencia de cada valor único de uma coluna"
   ]
  },
  {
   "cell_type": "code",
   "execution_count": 29,
   "id": "7ba809a6-92f6-4c3a-8983-5d1d2c8cfa98",
   "metadata": {},
   "outputs": [
    {
     "data": {
      "text/plain": [
       "nota\n",
       "4.0    26818\n",
       "3.0    20047\n",
       "5.0    13211\n",
       "3.5    13136\n",
       "4.5     8551\n",
       "2.0     7551\n",
       "2.5     5550\n",
       "1.0     2811\n",
       "1.5     1791\n",
       "0.5     1370\n",
       "Name: count, dtype: int64"
      ]
     },
     "execution_count": 29,
     "metadata": {},
     "output_type": "execute_result"
    }
   ],
   "source": [
    "notas[\"nota\"].value_counts()"
   ]
  },
  {
   "cell_type": "markdown",
   "id": "caca1387-92ba-4e1d-a6f5-370a57e9348d",
   "metadata": {},
   "source": [
    "<h2>mean()</h2>"
   ]
  },
  {
   "cell_type": "markdown",
   "id": "a398f0a8-1567-4d61-9e26-08150ce76e1a",
   "metadata": {},
   "source": [
    "O método mean() retorna a médias das colunas numéricas de um DataFrame ou de uma Serie"
   ]
  },
  {
   "cell_type": "code",
   "execution_count": 30,
   "id": "574c31ac-4132-45bb-a051-67781971a677",
   "metadata": {},
   "outputs": [
    {
     "data": {
      "text/plain": [
       "np.float64(3.501556983616962)"
      ]
     },
     "execution_count": 30,
     "metadata": {},
     "output_type": "execute_result"
    }
   ],
   "source": [
    "notas[\"nota\"].mean()"
   ]
  },
  {
   "cell_type": "markdown",
   "id": "e905176d",
   "metadata": {},
   "source": [
    "<h2>Informações gerais</h2>"
   ]
  },
  {
   "cell_type": "code",
   "execution_count": 31,
   "id": "068a9033",
   "metadata": {},
   "outputs": [
    {
     "name": "stdout",
     "output_type": "stream",
     "text": [
      "<class 'pandas.core.frame.DataFrame'>\n",
      "RangeIndex: 100836 entries, 0 to 100835\n",
      "Data columns (total 4 columns):\n",
      " #   Column     Non-Null Count   Dtype  \n",
      "---  ------     --------------   -----  \n",
      " 0   usuarioId  100836 non-null  int64  \n",
      " 1   filmeId    100836 non-null  int64  \n",
      " 2   nota       100836 non-null  float64\n",
      " 3   momento    100836 non-null  int64  \n",
      "dtypes: float64(1), int64(3)\n",
      "memory usage: 3.1 MB\n"
     ]
    }
   ],
   "source": [
    "notas.info()       # Informações gerais (tipos de dados, valores nulos, etc.)"
   ]
  },
  {
   "cell_type": "markdown",
   "id": "b5b0d07f",
   "metadata": {},
   "source": [
    "<h2>Análise de Correlação</h2>\n",
    "\n",
    "A análise de correlação investiga a relação entre duas ou mais variáveis numéricas em um conjunto de dados. Pandas calcula o coeficiente de correlação entre as colunas numéricas de um DataFrame.\n",
    "\n",
    "O coeficiente de correlação é um valor numérico que varia entre -1 e 1, e indica a força e a direção da relação entre duas variáveis:\n",
    "\n",
    "- 1: Correlação perfeita positiva (quando uma variável aumenta, a outra também aumenta proporcionalmente).\n",
    "- 0: Nenhuma correlação (não há uma relação linear entre as variáveis).\n",
    "- -1: Correlação perfeita negativa (quando uma variável aumenta, a outra diminui proporcionalmente).\n",
    "\n"
   ]
  },
  {
   "cell_type": "code",
   "execution_count": 32,
   "id": "3c1f87de",
   "metadata": {},
   "outputs": [
    {
     "data": {
      "text/html": [
       "<div>\n",
       "<style scoped>\n",
       "    .dataframe tbody tr th:only-of-type {\n",
       "        vertical-align: middle;\n",
       "    }\n",
       "\n",
       "    .dataframe tbody tr th {\n",
       "        vertical-align: top;\n",
       "    }\n",
       "\n",
       "    .dataframe thead th {\n",
       "        text-align: right;\n",
       "    }\n",
       "</style>\n",
       "<table border=\"1\" class=\"dataframe\">\n",
       "  <thead>\n",
       "    <tr style=\"text-align: right;\">\n",
       "      <th></th>\n",
       "      <th>usuarioId</th>\n",
       "      <th>filmeId</th>\n",
       "      <th>nota</th>\n",
       "      <th>momento</th>\n",
       "    </tr>\n",
       "  </thead>\n",
       "  <tbody>\n",
       "    <tr>\n",
       "      <th>usuarioId</th>\n",
       "      <td>1.000000</td>\n",
       "      <td>0.006773</td>\n",
       "      <td>-0.049348</td>\n",
       "      <td>0.097151</td>\n",
       "    </tr>\n",
       "    <tr>\n",
       "      <th>filmeId</th>\n",
       "      <td>0.006773</td>\n",
       "      <td>1.000000</td>\n",
       "      <td>-0.004061</td>\n",
       "      <td>0.503669</td>\n",
       "    </tr>\n",
       "    <tr>\n",
       "      <th>nota</th>\n",
       "      <td>-0.049348</td>\n",
       "      <td>-0.004061</td>\n",
       "      <td>1.000000</td>\n",
       "      <td>-0.005802</td>\n",
       "    </tr>\n",
       "    <tr>\n",
       "      <th>momento</th>\n",
       "      <td>0.097151</td>\n",
       "      <td>0.503669</td>\n",
       "      <td>-0.005802</td>\n",
       "      <td>1.000000</td>\n",
       "    </tr>\n",
       "  </tbody>\n",
       "</table>\n",
       "</div>"
      ],
      "text/plain": [
       "           usuarioId   filmeId      nota   momento\n",
       "usuarioId   1.000000  0.006773 -0.049348  0.097151\n",
       "filmeId     0.006773  1.000000 -0.004061  0.503669\n",
       "nota       -0.049348 -0.004061  1.000000 -0.005802\n",
       "momento     0.097151  0.503669 -0.005802  1.000000"
      ]
     },
     "execution_count": 32,
     "metadata": {},
     "output_type": "execute_result"
    }
   ],
   "source": [
    "correlacao = notas.corr()\n",
    "correlacao"
   ]
  },
  {
   "cell_type": "markdown",
   "id": "cd21a825-df1e-4586-8f3e-0ab8fda8e145",
   "metadata": {},
   "source": [
    "Fizemos uma análise exploratória dos dados usando ferramentas que nos ajudam a entender o que os nossos dados está nos dizendo"
   ]
  },
  {
   "cell_type": "markdown",
   "id": "f2af92c9-cf0c-48de-acca-edc486e7dec0",
   "metadata": {},
   "source": [
    "<h2>Plotando um gráfico com Pandas</h2>"
   ]
  },
  {
   "cell_type": "markdown",
   "id": "3a4dd278-0f5e-41e3-a9a4-f1732b360246",
   "metadata": {},
   "source": [
    "Quando usamos a função <code>value_counts()</code> sobre a coluna notas, percebemos que a nota mais comum é 4, mas será que a maioria das pessoas dá uma nota superior a 3,5 como estamos hipotetizando? Vamos então analisar graficamente."
   ]
  },
  {
   "cell_type": "code",
   "execution_count": 33,
   "id": "ff3820e7-b815-4f26-bcc1-e0a4f9615735",
   "metadata": {},
   "outputs": [
    {
     "data": {
      "text/plain": [
       "<Axes: >"
      ]
     },
     "execution_count": 33,
     "metadata": {},
     "output_type": "execute_result"
    },
    {
     "data": {
      "image/png": "[encoded data removed]",
      "text/plain": [
       "<Figure size 640x480 with 1 Axes>"
      ]
     },
     "metadata": {},
     "output_type": "display_data"
    }
   ],
   "source": [
    "notas[\"nota\"].plot()"
   ]
  },
  {
   "cell_type": "markdown",
   "id": "68f48d76-b176-4ac1-b5fc-a60b2d1b8e81",
   "metadata": {},
   "source": [
    "Não conseguimos extrair muitas informações atravéns desse gráfico, pois acabamos imprimindo uma linhha para cada nota, o que queremos visualizar é a frequência que cada nota tem nesse conjunto de dados. Desta forma, podemos fazer isso através de um histograma."
   ]
  },
  {
   "cell_type": "code",
   "execution_count": 34,
   "id": "9f5c513e-fd57-4f08-9a28-babadf50dbf7",
   "metadata": {},
   "outputs": [
    {
     "data": {
      "text/plain": [
       "<Axes: ylabel='Frequency'>"
      ]
     },
     "execution_count": 34,
     "metadata": {},
     "output_type": "execute_result"
    },
    {
     "data": {
      "image/png": "[encoded data removed]",
      "text/plain": [
       "<Figure size 640x480 with 1 Axes>"
      ]
     },
     "metadata": {},
     "output_type": "display_data"
    }
   ],
   "source": [
    "notas[\"nota\"].plot(kind = 'hist')"
   ]
  },
  {
   "cell_type": "markdown",
   "id": "9196c268-2562-4e40-9a23-a30b981178ce",
   "metadata": {},
   "source": [
    "podemos pensar que o gráfico é muito melhor que a tabela original, isso é parcilmente verdade, pois o gráfico nos mostra valores aproximados, enquanto a tabela nos mostra o valor exato"
   ]
  },
  {
   "cell_type": "markdown",
   "id": "d74d3fe4-1965-46e7-b8df-962dc9216205",
   "metadata": {},
   "source": [
    "<h2>Cálculo da Mediana</h2>"
   ]
  },
  {
   "cell_type": "markdown",
   "id": "24809736-14c2-4268-84e8-f9e6736f57a7",
   "metadata": {},
   "source": [
    "Analisando os dados de uma coluna, podemos querer saber qual o valor central desse conjunto de dados quando ele está ordenado. Para isso fazemos o cálculo da mediana aplicando o método <code>median()</code>"
   ]
  },
  {
   "cell_type": "code",
   "execution_count": 35,
   "id": "3f423540-cb00-4cbc-9eba-3f2d5d43459e",
   "metadata": {},
   "outputs": [
    {
     "data": {
      "text/plain": [
       "np.float64(3.5)"
      ]
     },
     "execution_count": 35,
     "metadata": {},
     "output_type": "execute_result"
    }
   ],
   "source": [
    "notas[\"nota\"].median()"
   ]
  },
  {
   "cell_type": "markdown",
   "id": "a965ed2c-eceb-47d3-9704-5b543a8838eb",
   "metadata": {},
   "source": [
    "Podemos salvar os valores da média (<code>mean()</code>) e da mediana (<code>median()</code>) em variáveis"
   ]
  },
  {
   "cell_type": "code",
   "execution_count": 36,
   "id": "eb09bb07-14b9-4020-8de6-ed45256d921c",
   "metadata": {},
   "outputs": [],
   "source": [
    "media = notas[\"nota\"].mean()"
   ]
  },
  {
   "cell_type": "markdown",
   "id": "339f7e47-8363-4160-8d79-385f262adeb2",
   "metadata": {},
   "source": [
    "Seguindo o exemplo, salve o valor da mediana em uma variável chamada mediana"
   ]
  },
  {
   "cell_type": "code",
   "execution_count": 37,
   "id": "9a1f372b-e65c-4646-b40b-d8b3ac1ab9db",
   "metadata": {},
   "outputs": [],
   "source": [
    "mediana = notas[\"nota\"].median()"
   ]
  },
  {
   "cell_type": "markdown",
   "id": "1872e15a-8425-42ac-97f2-6d5f0d219347",
   "metadata": {},
   "source": [
    "Vamos imprimir esses valores"
   ]
  },
  {
   "cell_type": "code",
   "execution_count": 38,
   "id": "4b35da1a-2db0-418c-b1b9-3a91d020e6c0",
   "metadata": {},
   "outputs": [
    {
     "name": "stdout",
     "output_type": "stream",
     "text": [
      "Media e 3.501556983616962\n"
     ]
    }
   ],
   "source": [
    "print(f\"Media e {media}\")"
   ]
  },
  {
   "cell_type": "markdown",
   "id": "bf1e18c9-e254-4814-96a9-e0bec13a3b65",
   "metadata": {},
   "source": [
    "Seguindo o exemplo, imprima o valor da mediana"
   ]
  },
  {
   "cell_type": "code",
   "execution_count": 39,
   "id": "cf5a2e99-3db2-4ffb-9421-b6d85556023f",
   "metadata": {},
   "outputs": [
    {
     "name": "stdout",
     "output_type": "stream",
     "text": [
      "Mediana eh 3.5\n"
     ]
    }
   ],
   "source": [
    "print(f\"Mediana eh {mediana}\")"
   ]
  },
  {
   "cell_type": "markdown",
   "id": "4264afa8-bc32-4676-be69-559a091e089e",
   "metadata": {},
   "source": [
    "<h2>Método Describe - Estatística Descritiva</h2>"
   ]
  },
  {
   "cell_type": "markdown",
   "id": "6208c57c-a7d9-4408-ae91-a28023c66140",
   "metadata": {},
   "source": [
    "O método <code>describe()</code> é uma função que gera estatísticas descritivas resumidas de um conjunto de dados, ele nos devolve métricas estatísticas úteis, como média, desvio padrão e percentuais.\n",
    "O resultado típico para colunas nuéricas é:"
   ]
  },
  {
   "cell_type": "markdown",
   "id": "b1d6aed6-8d0d-4230-b4e8-65d8fd41c6f9",
   "metadata": {},
   "source": [
    "- <strong>count</strong>: número total de valores não nulos\n",
    "- <strong>mean</strong>: média aritimética dos valores\n",
    "- <strong>std</strong>: desvio padrão, indicando a dispersão dos dados\n",
    "- <strong>min</strong>: valor mínimo\n",
    "- <strong>25%, 50% (mediana) e 75%</strong>\n",
    "- <strong>max</strong>: valor máximo"
   ]
  },
  {
   "cell_type": "code",
   "execution_count": 40,
   "id": "e6644aa8-e6da-4f01-8fc1-963c47763e4c",
   "metadata": {},
   "outputs": [
    {
     "data": {
      "text/plain": [
       "count    100836.000000\n",
       "mean          3.501557\n",
       "std           1.042529\n",
       "min           0.500000\n",
       "25%           3.000000\n",
       "50%           3.500000\n",
       "75%           4.000000\n",
       "max           5.000000\n",
       "Name: nota, dtype: float64"
      ]
     },
     "execution_count": 40,
     "metadata": {},
     "output_type": "execute_result"
    }
   ],
   "source": [
    "notas[\"nota\"].describe()"
   ]
  },
  {
   "cell_type": "markdown",
   "id": "a0e5e723-8984-42c2-bfee-181f0a0f59c7",
   "metadata": {},
   "source": [
    "Para colunas de texto (strings ou categorias), <code>describe(include = [object])</code> retorna as seguintes informações:\n",
    "- <strong>count</strong>: número de valores não nulos na coluna.\n",
    "- <strong>unique</strong>: quantidade de valores únicos (distintos) presentes na coluna.\n",
    "- <strong>top</strong>: valor mais comum (frequente) na coluna.\n",
    "- <strong>freq</strong>: frequência (quantidade de ocorrências) do valor mais comum.\n",
    "\n",
    "Essa descrição é útil para ter uma visão geral dos dados categóricos, permitindo verificar a diversidade de valores e identificar possíveis dominâncias de um valor sobre outros."
   ]
  },
  {
   "cell_type": "markdown",
   "id": "c2ef6388-2a42-41ef-901a-f4e1bf37f24f",
   "metadata": {},
   "source": [
    "<h2>Boxplot</h2>"
   ]
  },
  {
   "cell_type": "markdown",
   "id": "fb00b4fa-1adb-48bd-bc4d-62710b766756",
   "metadata": {},
   "source": [
    "O boxplot (ou box-and-whisker plot) é uma representação gráfica que exibe a distribuição de um conjunto de dados numéricos, facilitando a visualização de tendências, dispersão e outliers (valores atípicos).\n",
    "\n",
    "A caixa do boxplot representam as principais estatísticas de um conjunto de dados: os 25% inferior, o valor central e os 75% superior.\n",
    "\n",
    "Principais elementos do boxplot:\n",
    "\n",
    "1. **Quartis (Q1, Q2, Q3)**: \n",
    "   - **Q1** (25%) é o valor que separa os 25% inferiores dos dados.\n",
    "   - **Q2** (50%, ou mediana) é o valor que separa os dados ao meio.\n",
    "   - **Q3** (75%) é o valor que separa os 75% inferiores dos dados.\n",
    "\n",
    "2. **Caixa (box)**: A área entre Q1 e Q3 representa o *intervalo interquartil (IQR)*, ou seja, os 50% dos dados centrais. É onde se concentra a maioria dos valores, e a altura da caixa indica a dispersão desses valores.\n",
    "\n",
    "3. **Bigodes (whiskers)**: Estendem-se a partir da caixa para o menor e maior valor dentro de uma faixa limitada (geralmente, até 1,5 vezes o IQR a partir de Q1 e Q3). Esses limites ajudam a visualizar a extensão dos dados que não são considerados outliers.\n",
    "\n",
    "4. **Outliers**: Pontos fora dos bigodes, que representam valores que estão significativamente distantes da maioria dos dados."
   ]
  },
  {
   "cell_type": "code",
   "execution_count": 41,
   "id": "38a0592a",
   "metadata": {},
   "outputs": [
    {
     "data": {
      "text/plain": [
       "<Axes: >"
      ]
     },
     "execution_count": 41,
     "metadata": {},
     "output_type": "execute_result"
    },
    {
     "data": {
      "image/png": "[encoded data removed]",
      "text/plain": [
       "<Figure size 640x480 with 1 Axes>"
      ]
     },
     "metadata": {},
     "output_type": "display_data"
    }
   ],
   "source": [
    "notas.boxplot(column='nota')"
   ]
  },
  {
   "cell_type": "markdown",
   "id": "f3bbfa2a",
   "metadata": {},
   "source": [
    "Alternativamente, podemos usar a biblioteca específica de gráficos no Python chamada Seaborn. Ela traz gráficos mais elaborados.\n",
    "\n",
    "Para utilizá-la precisamos importá-la para nosso notebook da seguinte maneira:"
   ]
  },
  {
   "cell_type": "code",
   "execution_count": 22,
   "id": "b512ff94-188e-4f67-a3f8-9f5b57f3780d",
   "metadata": {},
   "outputs": [],
   "source": [
    "import seaborn as sns"
   ]
  },
  {
   "cell_type": "code",
   "execution_count": 23,
   "id": "c7148f72-e250-4b51-ba44-fa047d877053",
   "metadata": {},
   "outputs": [
    {
     "data": {
      "text/plain": [
       "<AxesSubplot:ylabel='nota'>"
      ]
     },
     "execution_count": 23,
     "metadata": {},
     "output_type": "execute_result"
    },
    {
     "data": {
      "image/png": "[encoded data removed]",
      "text/plain": [
       "<Figure size 640x480 with 1 Axes>"
      ]
     },
     "metadata": {},
     "output_type": "display_data"
    }
   ],
   "source": [
    "sns.boxplot(notas[\"nota\"])"
   ]
  },
  {
   "cell_type": "markdown",
   "id": "0e88fc3f-5320-4c75-82c9-4ea48f70aa1c",
   "metadata": {},
   "source": [
    "O que podemos concluir com esse boxplot?"
   ]
  },
  {
   "cell_type": "markdown",
   "id": "0c64f072-4669-46f1-bcf9-ecf27736cf52",
   "metadata": {},
   "source": [
    "Podemos ver que a mediana é 3,5, os 25% superior estão em 4 e os 25% infeiror estão em 3, ou seja, 50% das notas então entre 3 e 4.\n",
    "Podemos concluir que a maioria das pessoas dá notas entre 3 e 4. Para um filme receber uma nota baixa, a pessoa deve considerá-lo muito ruim, e para receber uma nota muito alta, o filme deve ser considerado muito bom."
   ]
  },
  {
   "cell_type": "markdown",
   "id": "9af944a8-2cd0-4969-b88b-a01d23134170",
   "metadata": {},
   "source": [
    "<h1>2. Analisando os dados</h1>"
   ]
  },
  {
   "cell_type": "markdown",
   "id": "367c368f-30e4-46c1-af3e-6742930e26e6",
   "metadata": {},
   "source": [
    "Para explorar mais a fundo esses dados, iremos acessar mais um arquivo, o movies.csv"
   ]
  },
  {
   "cell_type": "code",
   "execution_count": 24,
   "id": "0ee03fcb-84fd-479e-a074-d0572626a82b",
   "metadata": {},
   "outputs": [
    {
     "data": {
      "text/html": [
       "<div>\n",
       "<style scoped>\n",
       "    .dataframe tbody tr th:only-of-type {\n",
       "        vertical-align: middle;\n",
       "    }\n",
       "\n",
       "    .dataframe tbody tr th {\n",
       "        vertical-align: top;\n",
       "    }\n",
       "\n",
       "    .dataframe thead th {\n",
       "        text-align: right;\n",
       "    }\n",
       "</style>\n",
       "<table border=\"1\" class=\"dataframe\">\n",
       "  <thead>\n",
       "    <tr style=\"text-align: right;\">\n",
       "      <th></th>\n",
       "      <th>movieId</th>\n",
       "      <th>title</th>\n",
       "      <th>genres</th>\n",
       "    </tr>\n",
       "  </thead>\n",
       "  <tbody>\n",
       "    <tr>\n",
       "      <th>0</th>\n",
       "      <td>1</td>\n",
       "      <td>Toy Story (1995)</td>\n",
       "      <td>Adventure|Animation|Children|Comedy|Fantasy</td>\n",
       "    </tr>\n",
       "    <tr>\n",
       "      <th>1</th>\n",
       "      <td>2</td>\n",
       "      <td>Jumanji (1995)</td>\n",
       "      <td>Adventure|Children|Fantasy</td>\n",
       "    </tr>\n",
       "    <tr>\n",
       "      <th>2</th>\n",
       "      <td>3</td>\n",
       "      <td>Grumpier Old Men (1995)</td>\n",
       "      <td>Comedy|Romance</td>\n",
       "    </tr>\n",
       "    <tr>\n",
       "      <th>3</th>\n",
       "      <td>4</td>\n",
       "      <td>Waiting to Exhale (1995)</td>\n",
       "      <td>Comedy|Drama|Romance</td>\n",
       "    </tr>\n",
       "    <tr>\n",
       "      <th>4</th>\n",
       "      <td>5</td>\n",
       "      <td>Father of the Bride Part II (1995)</td>\n",
       "      <td>Comedy</td>\n",
       "    </tr>\n",
       "    <tr>\n",
       "      <th>...</th>\n",
       "      <td>...</td>\n",
       "      <td>...</td>\n",
       "      <td>...</td>\n",
       "    </tr>\n",
       "    <tr>\n",
       "      <th>9737</th>\n",
       "      <td>193581</td>\n",
       "      <td>Black Butler: Book of the Atlantic (2017)</td>\n",
       "      <td>Action|Animation|Comedy|Fantasy</td>\n",
       "    </tr>\n",
       "    <tr>\n",
       "      <th>9738</th>\n",
       "      <td>193583</td>\n",
       "      <td>No Game No Life: Zero (2017)</td>\n",
       "      <td>Animation|Comedy|Fantasy</td>\n",
       "    </tr>\n",
       "    <tr>\n",
       "      <th>9739</th>\n",
       "      <td>193585</td>\n",
       "      <td>Flint (2017)</td>\n",
       "      <td>Drama</td>\n",
       "    </tr>\n",
       "    <tr>\n",
       "      <th>9740</th>\n",
       "      <td>193587</td>\n",
       "      <td>Bungo Stray Dogs: Dead Apple (2018)</td>\n",
       "      <td>Action|Animation</td>\n",
       "    </tr>\n",
       "    <tr>\n",
       "      <th>9741</th>\n",
       "      <td>193609</td>\n",
       "      <td>Andrew Dice Clay: Dice Rules (1991)</td>\n",
       "      <td>Comedy</td>\n",
       "    </tr>\n",
       "  </tbody>\n",
       "</table>\n",
       "<p>9742 rows × 3 columns</p>\n",
       "</div>"
      ],
      "text/plain": [
       "      movieId                                      title  \\\n",
       "0           1                           Toy Story (1995)   \n",
       "1           2                             Jumanji (1995)   \n",
       "2           3                    Grumpier Old Men (1995)   \n",
       "3           4                   Waiting to Exhale (1995)   \n",
       "4           5         Father of the Bride Part II (1995)   \n",
       "...       ...                                        ...   \n",
       "9737   193581  Black Butler: Book of the Atlantic (2017)   \n",
       "9738   193583               No Game No Life: Zero (2017)   \n",
       "9739   193585                               Flint (2017)   \n",
       "9740   193587        Bungo Stray Dogs: Dead Apple (2018)   \n",
       "9741   193609        Andrew Dice Clay: Dice Rules (1991)   \n",
       "\n",
       "                                           genres  \n",
       "0     Adventure|Animation|Children|Comedy|Fantasy  \n",
       "1                      Adventure|Children|Fantasy  \n",
       "2                                  Comedy|Romance  \n",
       "3                            Comedy|Drama|Romance  \n",
       "4                                          Comedy  \n",
       "...                                           ...  \n",
       "9737              Action|Animation|Comedy|Fantasy  \n",
       "9738                     Animation|Comedy|Fantasy  \n",
       "9739                                        Drama  \n",
       "9740                             Action|Animation  \n",
       "9741                                       Comedy  \n",
       "\n",
       "[9742 rows x 3 columns]"
      ]
     },
     "execution_count": 24,
     "metadata": {},
     "output_type": "execute_result"
    }
   ],
   "source": [
    "filmes = pd.read_csv(\"movies.csv\")\n",
    "filmes"
   ]
  },
  {
   "cell_type": "markdown",
   "id": "9b22473d-81f7-4008-af6a-44b7f72778e3",
   "metadata": {},
   "source": [
    "Exercícío: renomeie as calunas, modieid para filmeId, title para titulo e genres para genero"
   ]
  },
  {
   "cell_type": "code",
   "execution_count": 25,
   "id": "37f2e53f-46a4-489b-8b38-da557288e697",
   "metadata": {},
   "outputs": [],
   "source": [
    "filmes.columns = [\"filmeId\", \"titulo\", \"generos\"]"
   ]
  },
  {
   "cell_type": "code",
   "execution_count": 26,
   "id": "44425420-7b40-4344-b059-314ad9570fe9",
   "metadata": {},
   "outputs": [
    {
     "data": {
      "text/html": [
       "<div>\n",
       "<style scoped>\n",
       "    .dataframe tbody tr th:only-of-type {\n",
       "        vertical-align: middle;\n",
       "    }\n",
       "\n",
       "    .dataframe tbody tr th {\n",
       "        vertical-align: top;\n",
       "    }\n",
       "\n",
       "    .dataframe thead th {\n",
       "        text-align: right;\n",
       "    }\n",
       "</style>\n",
       "<table border=\"1\" class=\"dataframe\">\n",
       "  <thead>\n",
       "    <tr style=\"text-align: right;\">\n",
       "      <th></th>\n",
       "      <th>filmeId</th>\n",
       "      <th>titulo</th>\n",
       "      <th>generos</th>\n",
       "    </tr>\n",
       "  </thead>\n",
       "  <tbody>\n",
       "    <tr>\n",
       "      <th>0</th>\n",
       "      <td>1</td>\n",
       "      <td>Toy Story (1995)</td>\n",
       "      <td>Adventure|Animation|Children|Comedy|Fantasy</td>\n",
       "    </tr>\n",
       "    <tr>\n",
       "      <th>1</th>\n",
       "      <td>2</td>\n",
       "      <td>Jumanji (1995)</td>\n",
       "      <td>Adventure|Children|Fantasy</td>\n",
       "    </tr>\n",
       "    <tr>\n",
       "      <th>2</th>\n",
       "      <td>3</td>\n",
       "      <td>Grumpier Old Men (1995)</td>\n",
       "      <td>Comedy|Romance</td>\n",
       "    </tr>\n",
       "    <tr>\n",
       "      <th>3</th>\n",
       "      <td>4</td>\n",
       "      <td>Waiting to Exhale (1995)</td>\n",
       "      <td>Comedy|Drama|Romance</td>\n",
       "    </tr>\n",
       "    <tr>\n",
       "      <th>4</th>\n",
       "      <td>5</td>\n",
       "      <td>Father of the Bride Part II (1995)</td>\n",
       "      <td>Comedy</td>\n",
       "    </tr>\n",
       "  </tbody>\n",
       "</table>\n",
       "</div>"
      ],
      "text/plain": [
       "   filmeId                              titulo  \\\n",
       "0        1                    Toy Story (1995)   \n",
       "1        2                      Jumanji (1995)   \n",
       "2        3             Grumpier Old Men (1995)   \n",
       "3        4            Waiting to Exhale (1995)   \n",
       "4        5  Father of the Bride Part II (1995)   \n",
       "\n",
       "                                       generos  \n",
       "0  Adventure|Animation|Children|Comedy|Fantasy  \n",
       "1                   Adventure|Children|Fantasy  \n",
       "2                               Comedy|Romance  \n",
       "3                         Comedy|Drama|Romance  \n",
       "4                                       Comedy  "
      ]
     },
     "execution_count": 26,
     "metadata": {},
     "output_type": "execute_result"
    }
   ],
   "source": [
    "filmes.head()"
   ]
  },
  {
   "cell_type": "markdown",
   "id": "0d328487-3f4b-42d5-b15f-b3c1531d4cbb",
   "metadata": {},
   "source": [
    "Vamos relembrar nosso conjunto de dados relativo as notas"
   ]
  },
  {
   "cell_type": "code",
   "execution_count": 27,
   "id": "5c30fb4e-bd7c-4f68-8e5d-594bd849da95",
   "metadata": {},
   "outputs": [
    {
     "data": {
      "text/html": [
       "<div>\n",
       "<style scoped>\n",
       "    .dataframe tbody tr th:only-of-type {\n",
       "        vertical-align: middle;\n",
       "    }\n",
       "\n",
       "    .dataframe tbody tr th {\n",
       "        vertical-align: top;\n",
       "    }\n",
       "\n",
       "    .dataframe thead th {\n",
       "        text-align: right;\n",
       "    }\n",
       "</style>\n",
       "<table border=\"1\" class=\"dataframe\">\n",
       "  <thead>\n",
       "    <tr style=\"text-align: right;\">\n",
       "      <th></th>\n",
       "      <th>usuarioId</th>\n",
       "      <th>filmeId</th>\n",
       "      <th>nota</th>\n",
       "      <th>momento</th>\n",
       "    </tr>\n",
       "  </thead>\n",
       "  <tbody>\n",
       "    <tr>\n",
       "      <th>0</th>\n",
       "      <td>1</td>\n",
       "      <td>1</td>\n",
       "      <td>4.0</td>\n",
       "      <td>964982703</td>\n",
       "    </tr>\n",
       "    <tr>\n",
       "      <th>1</th>\n",
       "      <td>1</td>\n",
       "      <td>3</td>\n",
       "      <td>4.0</td>\n",
       "      <td>964981247</td>\n",
       "    </tr>\n",
       "    <tr>\n",
       "      <th>2</th>\n",
       "      <td>1</td>\n",
       "      <td>6</td>\n",
       "      <td>4.0</td>\n",
       "      <td>964982224</td>\n",
       "    </tr>\n",
       "    <tr>\n",
       "      <th>3</th>\n",
       "      <td>1</td>\n",
       "      <td>47</td>\n",
       "      <td>5.0</td>\n",
       "      <td>964983815</td>\n",
       "    </tr>\n",
       "    <tr>\n",
       "      <th>4</th>\n",
       "      <td>1</td>\n",
       "      <td>50</td>\n",
       "      <td>5.0</td>\n",
       "      <td>964982931</td>\n",
       "    </tr>\n",
       "  </tbody>\n",
       "</table>\n",
       "</div>"
      ],
      "text/plain": [
       "   usuarioId  filmeId  nota    momento\n",
       "0          1        1   4.0  964982703\n",
       "1          1        3   4.0  964981247\n",
       "2          1        6   4.0  964982224\n",
       "3          1       47   5.0  964983815\n",
       "4          1       50   5.0  964982931"
      ]
     },
     "execution_count": 27,
     "metadata": {},
     "output_type": "execute_result"
    }
   ],
   "source": [
    "notas.head()"
   ]
  },
  {
   "cell_type": "markdown",
   "id": "66381ae5-1346-49d1-aab4-ff7fff4832f6",
   "metadata": {},
   "source": [
    "<h2>Funcao Query</h2>"
   ]
  },
  {
   "cell_type": "markdown",
   "id": "433df55d-4727-44fc-95cf-c10b6cd9609d",
   "metadata": {},
   "source": [
    "A função <code>query()</code> sere para fazer uma pesquisa dentro do dataset"
   ]
  },
  {
   "cell_type": "code",
   "execution_count": 28,
   "id": "1852d8f5-efcd-466a-a084-cddcfae619e8",
   "metadata": {},
   "outputs": [
    {
     "data": {
      "text/html": [
       "<div>\n",
       "<style scoped>\n",
       "    .dataframe tbody tr th:only-of-type {\n",
       "        vertical-align: middle;\n",
       "    }\n",
       "\n",
       "    .dataframe tbody tr th {\n",
       "        vertical-align: top;\n",
       "    }\n",
       "\n",
       "    .dataframe thead th {\n",
       "        text-align: right;\n",
       "    }\n",
       "</style>\n",
       "<table border=\"1\" class=\"dataframe\">\n",
       "  <thead>\n",
       "    <tr style=\"text-align: right;\">\n",
       "      <th></th>\n",
       "      <th>filmeId</th>\n",
       "      <th>titulo</th>\n",
       "      <th>generos</th>\n",
       "    </tr>\n",
       "  </thead>\n",
       "  <tbody>\n",
       "    <tr>\n",
       "      <th>0</th>\n",
       "      <td>1</td>\n",
       "      <td>Toy Story (1995)</td>\n",
       "      <td>Adventure|Animation|Children|Comedy|Fantasy</td>\n",
       "    </tr>\n",
       "  </tbody>\n",
       "</table>\n",
       "</div>"
      ],
      "text/plain": [
       "   filmeId            titulo                                      generos\n",
       "0        1  Toy Story (1995)  Adventure|Animation|Children|Comedy|Fantasy"
      ]
     },
     "execution_count": 28,
     "metadata": {},
     "output_type": "execute_result"
    }
   ],
   "source": [
    "#Exemplo\n",
    "filmes.query(\"filmeId==1\")"
   ]
  },
  {
   "cell_type": "markdown",
   "id": "9393c412-028f-4eef-991f-ddb2121d3d22",
   "metadata": {},
   "source": [
    "Agora é sua vez, pesquise um filme pelo id de sua preferência"
   ]
  },
  {
   "cell_type": "code",
   "execution_count": 29,
   "id": "421fea40-901a-4b49-8b07-57780e4dc78d",
   "metadata": {},
   "outputs": [
    {
     "data": {
      "text/html": [
       "<div>\n",
       "<style scoped>\n",
       "    .dataframe tbody tr th:only-of-type {\n",
       "        vertical-align: middle;\n",
       "    }\n",
       "\n",
       "    .dataframe tbody tr th {\n",
       "        vertical-align: top;\n",
       "    }\n",
       "\n",
       "    .dataframe thead th {\n",
       "        text-align: right;\n",
       "    }\n",
       "</style>\n",
       "<table border=\"1\" class=\"dataframe\">\n",
       "  <thead>\n",
       "    <tr style=\"text-align: right;\">\n",
       "      <th></th>\n",
       "      <th>filmeId</th>\n",
       "      <th>titulo</th>\n",
       "      <th>generos</th>\n",
       "    </tr>\n",
       "  </thead>\n",
       "  <tbody>\n",
       "    <tr>\n",
       "      <th>62</th>\n",
       "      <td>70</td>\n",
       "      <td>From Dusk Till Dawn (1996)</td>\n",
       "      <td>Action|Comedy|Horror|Thriller</td>\n",
       "    </tr>\n",
       "  </tbody>\n",
       "</table>\n",
       "</div>"
      ],
      "text/plain": [
       "    filmeId                      titulo                        generos\n",
       "62       70  From Dusk Till Dawn (1996)  Action|Comedy|Horror|Thriller"
      ]
     },
     "execution_count": 29,
     "metadata": {},
     "output_type": "execute_result"
    }
   ],
   "source": [
    "filmes.query(\"filmeId==70\")"
   ]
  },
  {
   "cell_type": "markdown",
   "id": "1b98ffed-0741-481a-9b89-d8d70d7c2c1c",
   "metadata": {},
   "source": [
    "Agora que aprendemos a usar a função query, vamos calcular a média de um filme específico"
   ]
  },
  {
   "cell_type": "code",
   "execution_count": 30,
   "id": "3bde5583-02e7-42b3-b90e-d085106d7493",
   "metadata": {},
   "outputs": [
    {
     "data": {
      "text/plain": [
       "3.9209302325581397"
      ]
     },
     "execution_count": 30,
     "metadata": {},
     "output_type": "execute_result"
    }
   ],
   "source": [
    "notas.query(\"filmeId==1\")[\"nota\"].mean()"
   ]
  },
  {
   "cell_type": "markdown",
   "id": "ecf23a5a-3164-4169-a522-5c83193c2b7e",
   "metadata": {},
   "source": [
    "Agora calculme a média das notas do filme que você escolheu"
   ]
  },
  {
   "cell_type": "code",
   "execution_count": 31,
   "id": "8e5ef1d9-3250-449c-97f1-be72dae54956",
   "metadata": {},
   "outputs": [
    {
     "data": {
      "text/plain": [
       "3.5090909090909093"
      ]
     },
     "execution_count": 31,
     "metadata": {},
     "output_type": "execute_result"
    }
   ],
   "source": [
    "notas.query(\"filmeId==70\")[\"nota\"].mean()"
   ]
  },
  {
   "cell_type": "markdown",
   "id": "fed32655-4570-470d-b7b1-758142c3ea33",
   "metadata": {},
   "source": [
    "<h2>Função Group by</h2>"
   ]
  },
  {
   "cell_type": "markdown",
   "id": "5fc5a0a1-db8b-4a68-96aa-b7f0c1273e08",
   "metadata": {},
   "source": [
    "Já vimos como fazer a média para cada filme separadamente, agora vamos aprender a calcular a média para cada filme, todos de uma vez"
   ]
  },
  {
   "cell_type": "code",
   "execution_count": 32,
   "id": "9f4044a9-2eec-4245-b2c9-e0887c3aa338",
   "metadata": {},
   "outputs": [],
   "source": [
    "medias_por_filme = notas.groupby(\"filmeId\")[\"nota\"].mean()"
   ]
  },
  {
   "cell_type": "code",
   "execution_count": 33,
   "id": "a3c6789d-63f9-41cc-8737-d574d05bfd29",
   "metadata": {},
   "outputs": [
    {
     "data": {
      "text/plain": [
       "filmeId\n",
       "1    3.920930\n",
       "2    3.431818\n",
       "3    3.259615\n",
       "4    2.357143\n",
       "5    3.071429\n",
       "Name: nota, dtype: float64"
      ]
     },
     "execution_count": 33,
     "metadata": {},
     "output_type": "execute_result"
    }
   ],
   "source": [
    "medias_por_filme.head()"
   ]
  },
  {
   "cell_type": "markdown",
   "id": "bbf3c728-574f-4340-a212-d1e2444210b4",
   "metadata": {},
   "source": [
    "Agora tente fazer um gráfico de histograma com as médisa que obtivemos"
   ]
  },
  {
   "cell_type": "code",
   "execution_count": 34,
   "id": "ab74fc5e-8811-494d-9619-18db366f82e7",
   "metadata": {
    "scrolled": true
   },
   "outputs": [
    {
     "data": {
      "text/plain": [
       "<AxesSubplot:ylabel='Frequency'>"
      ]
     },
     "execution_count": 34,
     "metadata": {},
     "output_type": "execute_result"
    },
    {
     "data": {
      "image/png": "[encoded data removed]",
      "text/plain": [
       "<Figure size 640x480 with 1 Axes>"
      ]
     },
     "metadata": {},
     "output_type": "display_data"
    }
   ],
   "source": [
    "medias_por_filme.plot(kind = \"hist\")"
   ]
  },
  {
   "cell_type": "markdown",
   "id": "ea904b7a-6e98-4642-905f-8c4774fa4651",
   "metadata": {},
   "source": [
    "Podemos notar que a maior parte das médisa está entre 3 e 4"
   ]
  },
  {
   "cell_type": "markdown",
   "id": "f3ac0be3-4122-4b99-a79e-100c33578115",
   "metadata": {},
   "source": [
    "O histograma anterior nos dava informações a cerca do comportamento humano em dar notas aos filmes, já este histograma ele nos revela a frequência das médias de notas dos filmes"
   ]
  },
  {
   "cell_type": "markdown",
   "id": "2248ec40-40fd-4a86-9f05-bcd23d5f2878",
   "metadata": {},
   "source": [
    "Agora vamos analisar a distribuição das médias dos filmes através de um gráfico de boxplot"
   ]
  },
  {
   "cell_type": "code",
   "execution_count": 35,
   "id": "a2e350e0-7b03-400e-b3e4-81a18e173a98",
   "metadata": {},
   "outputs": [
    {
     "data": {
      "text/plain": [
       "<AxesSubplot:ylabel='nota'>"
      ]
     },
     "execution_count": 35,
     "metadata": {},
     "output_type": "execute_result"
    },
    {
     "data": {
      "image/png": "[encoded data removed]",
      "text/plain": [
       "<Figure size 640x480 with 1 Axes>"
      ]
     },
     "metadata": {},
     "output_type": "display_data"
    }
   ],
   "source": [
    "sns.boxplot(medias_por_filme)"
   ]
  },
  {
   "cell_type": "markdown",
   "id": "c928e2fe-9351-4d6d-97db-a094af965c72",
   "metadata": {},
   "source": [
    "podemos ver em números através da função median() e describe()"
   ]
  },
  {
   "cell_type": "code",
   "execution_count": 36,
   "id": "e1bcb43b-ca32-4a43-8fdf-2f5dac91f3a3",
   "metadata": {},
   "outputs": [
    {
     "data": {
      "text/plain": [
       "3.4166666666666665"
      ]
     },
     "execution_count": 36,
     "metadata": {},
     "output_type": "execute_result"
    }
   ],
   "source": [
    "medias_por_filme.median()"
   ]
  },
  {
   "cell_type": "code",
   "execution_count": 37,
   "id": "ea4e09f7-20d0-4f16-9556-bfb7973cc904",
   "metadata": {},
   "outputs": [
    {
     "data": {
      "text/plain": [
       "count    9724.000000\n",
       "mean        3.262448\n",
       "std         0.869874\n",
       "min         0.500000\n",
       "25%         2.800000\n",
       "50%         3.416667\n",
       "75%         3.911765\n",
       "max         5.000000\n",
       "Name: nota, dtype: float64"
      ]
     },
     "execution_count": 37,
     "metadata": {},
     "output_type": "execute_result"
    }
   ],
   "source": [
    "medias_por_filme.describe()"
   ]
  },
  {
   "cell_type": "markdown",
   "id": "dc25a9d5-35fe-4629-8eac-dd31501c8234",
   "metadata": {},
   "source": [
    "Tanto o pandas quanto o seaborn, utilizam uma biblioteca chamada matplotlib, agora iremos construir um histograma das médias dos filmes com o Seaborn e iremos utilizar elementos de matplotlib"
   ]
  },
  {
   "cell_type": "code",
   "execution_count": 38,
   "id": "16f9bfc4-71f1-42af-b47b-b5d1fc49bb8f",
   "metadata": {},
   "outputs": [
    {
     "data": {
      "text/plain": [
       "Text(0.5, 1.0, 'Histograma das médias dos filmes')"
      ]
     },
     "execution_count": 38,
     "metadata": {},
     "output_type": "execute_result"
    },
    {
     "data": {
      "image/png": "[encoded data removed]",
      "text/plain": [
       "<Figure size 500x500 with 1 Axes>"
      ]
     },
     "metadata": {},
     "output_type": "display_data"
    }
   ],
   "source": [
    "import matplotlib.pyplot as plt\n",
    "sns.displot(medias_por_filme, kde=True)\n",
    "plt.title(\"Histograma das médias dos filmes\")"
   ]
  },
  {
   "cell_type": "markdown",
   "id": "3186c485-3229-4cf5-88ce-4838fd7b5e33",
   "metadata": {},
   "source": [
    "Usamos \"kde = True\" para desenhar uma curva que acompanha a distribuição"
   ]
  },
  {
   "cell_type": "markdown",
   "id": "aad23475-7830-4a90-be0b-a08563733144",
   "metadata": {},
   "source": [
    "É importante que primeiro seja construído o gráfico e depois adicionado o título, senãos serão construĩdos dois gráficos, pois quando chamamos o Seaborn, ele cria um gráfico novo, quando plt é chamado, alteramos o gráfico atual"
   ]
  },
  {
   "cell_type": "code",
   "execution_count": 39,
   "id": "8eb2f436-231b-4c7b-b098-0eb0ae7305a8",
   "metadata": {},
   "outputs": [
    {
     "data": {
      "text/plain": [
       "<seaborn.axisgrid.FacetGrid at 0x7f5bd87c1ee0>"
      ]
     },
     "execution_count": 39,
     "metadata": {},
     "output_type": "execute_result"
    },
    {
     "data": {
      "image/png": "[encoded data removed]",
      "text/plain": [
       "<Figure size 640x480 with 1 Axes>"
      ]
     },
     "metadata": {},
     "output_type": "display_data"
    },
    {
     "data": {
      "image/png": "[encoded data removed]",
      "text/plain": [
       "<Figure size 500x500 with 1 Axes>"
      ]
     },
     "metadata": {},
     "output_type": "display_data"
    }
   ],
   "source": [
    "plt.title(\"Histograma das médias dos filmes\")\n",
    "sns.displot(medias_por_filme, kde=True)\n"
   ]
  },
  {
   "cell_type": "markdown",
   "id": "d461da7e-56e3-4aa8-8847-5d8a6c9b8057",
   "metadata": {},
   "source": [
    "<h2>3. Entendendo os tipos de variáveis</h2>"
   ]
  },
  {
   "cell_type": "markdown",
   "id": "f5be97d8-49af-4afe-b490-4bc2933ecdd4",
   "metadata": {},
   "source": [
    "Para continuar nossa oficina e aprender mais conceitos, iremos utilizar outro dataset relacionado à filmes, o TMDB 500, cujo nome de arquivo é tmdb_5000_movies.csv"
   ]
  },
  {
   "cell_type": "markdown",
   "id": "30dbd64c-bbf6-4dca-8fd3-bf7a77d1262a",
   "metadata": {},
   "source": [
    "do mesmo jeito que foi feito com os dasets anteriores, leia o arquivo csv e guarde seu conteúdo em uma varoável chamada tmdb, após isso, imprima apenas o head deste DataFrame"
   ]
  },
  {
   "cell_type": "code",
   "execution_count": 40,
   "id": "68b647dd-027f-481d-9434-7498aaed2020",
   "metadata": {},
   "outputs": [],
   "source": [
    "tmdb = pd.read_csv(\"tmdb_5000_movies.csv\")"
   ]
  },
  {
   "cell_type": "code",
   "execution_count": 41,
   "id": "cce83d09-683e-425c-a65e-5291b370cf2e",
   "metadata": {},
   "outputs": [
    {
     "data": {
      "text/html": [
       "<div>\n",
       "<style scoped>\n",
       "    .dataframe tbody tr th:only-of-type {\n",
       "        vertical-align: middle;\n",
       "    }\n",
       "\n",
       "    .dataframe tbody tr th {\n",
       "        vertical-align: top;\n",
       "    }\n",
       "\n",
       "    .dataframe thead th {\n",
       "        text-align: right;\n",
       "    }\n",
       "</style>\n",
       "<table border=\"1\" class=\"dataframe\">\n",
       "  <thead>\n",
       "    <tr style=\"text-align: right;\">\n",
       "      <th></th>\n",
       "      <th>budget</th>\n",
       "      <th>genres</th>\n",
       "      <th>homepage</th>\n",
       "      <th>id</th>\n",
       "      <th>keywords</th>\n",
       "      <th>original_language</th>\n",
       "      <th>original_title</th>\n",
       "      <th>overview</th>\n",
       "      <th>popularity</th>\n",
       "      <th>production_companies</th>\n",
       "      <th>production_countries</th>\n",
       "      <th>release_date</th>\n",
       "      <th>revenue</th>\n",
       "      <th>runtime</th>\n",
       "      <th>spoken_languages</th>\n",
       "      <th>status</th>\n",
       "      <th>tagline</th>\n",
       "      <th>title</th>\n",
       "      <th>vote_average</th>\n",
       "      <th>vote_count</th>\n",
       "    </tr>\n",
       "  </thead>\n",
       "  <tbody>\n",
       "    <tr>\n",
       "      <th>0</th>\n",
       "      <td>237000000</td>\n",
       "      <td>[{\"id\": 28, \"name\": \"Action\"}, {\"id\": 12, \"nam...</td>\n",
       "      <td>http://www.avatarmovie.com/</td>\n",
       "      <td>19995</td>\n",
       "      <td>[{\"id\": 1463, \"name\": \"culture clash\"}, {\"id\":...</td>\n",
       "      <td>en</td>\n",
       "      <td>Avatar</td>\n",
       "      <td>In the 22nd century, a paraplegic Marine is di...</td>\n",
       "      <td>150.437577</td>\n",
       "      <td>[{\"name\": \"Ingenious Film Partners\", \"id\": 289...</td>\n",
       "      <td>[{\"iso_3166_1\": \"US\", \"name\": \"United States o...</td>\n",
       "      <td>2009-12-10</td>\n",
       "      <td>2787965087</td>\n",
       "      <td>162.0</td>\n",
       "      <td>[{\"iso_639_1\": \"en\", \"name\": \"English\"}, {\"iso...</td>\n",
       "      <td>Released</td>\n",
       "      <td>Enter the World of Pandora.</td>\n",
       "      <td>Avatar</td>\n",
       "      <td>7.2</td>\n",
       "      <td>11800</td>\n",
       "    </tr>\n",
       "    <tr>\n",
       "      <th>1</th>\n",
       "      <td>300000000</td>\n",
       "      <td>[{\"id\": 12, \"name\": \"Adventure\"}, {\"id\": 14, \"...</td>\n",
       "      <td>http://disney.go.com/disneypictures/pirates/</td>\n",
       "      <td>285</td>\n",
       "      <td>[{\"id\": 270, \"name\": \"ocean\"}, {\"id\": 726, \"na...</td>\n",
       "      <td>en</td>\n",
       "      <td>Pirates of the Caribbean: At World's End</td>\n",
       "      <td>Captain Barbossa, long believed to be dead, ha...</td>\n",
       "      <td>139.082615</td>\n",
       "      <td>[{\"name\": \"Walt Disney Pictures\", \"id\": 2}, {\"...</td>\n",
       "      <td>[{\"iso_3166_1\": \"US\", \"name\": \"United States o...</td>\n",
       "      <td>2007-05-19</td>\n",
       "      <td>961000000</td>\n",
       "      <td>169.0</td>\n",
       "      <td>[{\"iso_639_1\": \"en\", \"name\": \"English\"}]</td>\n",
       "      <td>Released</td>\n",
       "      <td>At the end of the world, the adventure begins.</td>\n",
       "      <td>Pirates of the Caribbean: At World's End</td>\n",
       "      <td>6.9</td>\n",
       "      <td>4500</td>\n",
       "    </tr>\n",
       "    <tr>\n",
       "      <th>2</th>\n",
       "      <td>245000000</td>\n",
       "      <td>[{\"id\": 28, \"name\": \"Action\"}, {\"id\": 12, \"nam...</td>\n",
       "      <td>http://www.sonypictures.com/movies/spectre/</td>\n",
       "      <td>206647</td>\n",
       "      <td>[{\"id\": 470, \"name\": \"spy\"}, {\"id\": 818, \"name...</td>\n",
       "      <td>en</td>\n",
       "      <td>Spectre</td>\n",
       "      <td>A cryptic message from Bond’s past sends him o...</td>\n",
       "      <td>107.376788</td>\n",
       "      <td>[{\"name\": \"Columbia Pictures\", \"id\": 5}, {\"nam...</td>\n",
       "      <td>[{\"iso_3166_1\": \"GB\", \"name\": \"United Kingdom\"...</td>\n",
       "      <td>2015-10-26</td>\n",
       "      <td>880674609</td>\n",
       "      <td>148.0</td>\n",
       "      <td>[{\"iso_639_1\": \"fr\", \"name\": \"Fran\\u00e7ais\"},...</td>\n",
       "      <td>Released</td>\n",
       "      <td>A Plan No One Escapes</td>\n",
       "      <td>Spectre</td>\n",
       "      <td>6.3</td>\n",
       "      <td>4466</td>\n",
       "    </tr>\n",
       "    <tr>\n",
       "      <th>3</th>\n",
       "      <td>250000000</td>\n",
       "      <td>[{\"id\": 28, \"name\": \"Action\"}, {\"id\": 80, \"nam...</td>\n",
       "      <td>http://www.thedarkknightrises.com/</td>\n",
       "      <td>49026</td>\n",
       "      <td>[{\"id\": 849, \"name\": \"dc comics\"}, {\"id\": 853,...</td>\n",
       "      <td>en</td>\n",
       "      <td>The Dark Knight Rises</td>\n",
       "      <td>Following the death of District Attorney Harve...</td>\n",
       "      <td>112.312950</td>\n",
       "      <td>[{\"name\": \"Legendary Pictures\", \"id\": 923}, {\"...</td>\n",
       "      <td>[{\"iso_3166_1\": \"US\", \"name\": \"United States o...</td>\n",
       "      <td>2012-07-16</td>\n",
       "      <td>1084939099</td>\n",
       "      <td>165.0</td>\n",
       "      <td>[{\"iso_639_1\": \"en\", \"name\": \"English\"}]</td>\n",
       "      <td>Released</td>\n",
       "      <td>The Legend Ends</td>\n",
       "      <td>The Dark Knight Rises</td>\n",
       "      <td>7.6</td>\n",
       "      <td>9106</td>\n",
       "    </tr>\n",
       "    <tr>\n",
       "      <th>4</th>\n",
       "      <td>260000000</td>\n",
       "      <td>[{\"id\": 28, \"name\": \"Action\"}, {\"id\": 12, \"nam...</td>\n",
       "      <td>http://movies.disney.com/john-carter</td>\n",
       "      <td>49529</td>\n",
       "      <td>[{\"id\": 818, \"name\": \"based on novel\"}, {\"id\":...</td>\n",
       "      <td>en</td>\n",
       "      <td>John Carter</td>\n",
       "      <td>John Carter is a war-weary, former military ca...</td>\n",
       "      <td>43.926995</td>\n",
       "      <td>[{\"name\": \"Walt Disney Pictures\", \"id\": 2}]</td>\n",
       "      <td>[{\"iso_3166_1\": \"US\", \"name\": \"United States o...</td>\n",
       "      <td>2012-03-07</td>\n",
       "      <td>284139100</td>\n",
       "      <td>132.0</td>\n",
       "      <td>[{\"iso_639_1\": \"en\", \"name\": \"English\"}]</td>\n",
       "      <td>Released</td>\n",
       "      <td>Lost in our world, found in another.</td>\n",
       "      <td>John Carter</td>\n",
       "      <td>6.1</td>\n",
       "      <td>2124</td>\n",
       "    </tr>\n",
       "  </tbody>\n",
       "</table>\n",
       "</div>"
      ],
      "text/plain": [
       "      budget                                             genres  \\\n",
       "0  237000000  [{\"id\": 28, \"name\": \"Action\"}, {\"id\": 12, \"nam...   \n",
       "1  300000000  [{\"id\": 12, \"name\": \"Adventure\"}, {\"id\": 14, \"...   \n",
       "2  245000000  [{\"id\": 28, \"name\": \"Action\"}, {\"id\": 12, \"nam...   \n",
       "3  250000000  [{\"id\": 28, \"name\": \"Action\"}, {\"id\": 80, \"nam...   \n",
       "4  260000000  [{\"id\": 28, \"name\": \"Action\"}, {\"id\": 12, \"nam...   \n",
       "\n",
       "                                       homepage      id  \\\n",
       "0                   http://www.avatarmovie.com/   19995   \n",
       "1  http://disney.go.com/disneypictures/pirates/     285   \n",
       "2   http://www.sonypictures.com/movies/spectre/  206647   \n",
       "3            http://www.thedarkknightrises.com/   49026   \n",
       "4          http://movies.disney.com/john-carter   49529   \n",
       "\n",
       "                                            keywords original_language  \\\n",
       "0  [{\"id\": 1463, \"name\": \"culture clash\"}, {\"id\":...                en   \n",
       "1  [{\"id\": 270, \"name\": \"ocean\"}, {\"id\": 726, \"na...                en   \n",
       "2  [{\"id\": 470, \"name\": \"spy\"}, {\"id\": 818, \"name...                en   \n",
       "3  [{\"id\": 849, \"name\": \"dc comics\"}, {\"id\": 853,...                en   \n",
       "4  [{\"id\": 818, \"name\": \"based on novel\"}, {\"id\":...                en   \n",
       "\n",
       "                             original_title  \\\n",
       "0                                    Avatar   \n",
       "1  Pirates of the Caribbean: At World's End   \n",
       "2                                   Spectre   \n",
       "3                     The Dark Knight Rises   \n",
       "4                               John Carter   \n",
       "\n",
       "                                            overview  popularity  \\\n",
       "0  In the 22nd century, a paraplegic Marine is di...  150.437577   \n",
       "1  Captain Barbossa, long believed to be dead, ha...  139.082615   \n",
       "2  A cryptic message from Bond’s past sends him o...  107.376788   \n",
       "3  Following the death of District Attorney Harve...  112.312950   \n",
       "4  John Carter is a war-weary, former military ca...   43.926995   \n",
       "\n",
       "                                production_companies  \\\n",
       "0  [{\"name\": \"Ingenious Film Partners\", \"id\": 289...   \n",
       "1  [{\"name\": \"Walt Disney Pictures\", \"id\": 2}, {\"...   \n",
       "2  [{\"name\": \"Columbia Pictures\", \"id\": 5}, {\"nam...   \n",
       "3  [{\"name\": \"Legendary Pictures\", \"id\": 923}, {\"...   \n",
       "4        [{\"name\": \"Walt Disney Pictures\", \"id\": 2}]   \n",
       "\n",
       "                                production_countries release_date     revenue  \\\n",
       "0  [{\"iso_3166_1\": \"US\", \"name\": \"United States o...   2009-12-10  2787965087   \n",
       "1  [{\"iso_3166_1\": \"US\", \"name\": \"United States o...   2007-05-19   961000000   \n",
       "2  [{\"iso_3166_1\": \"GB\", \"name\": \"United Kingdom\"...   2015-10-26   880674609   \n",
       "3  [{\"iso_3166_1\": \"US\", \"name\": \"United States o...   2012-07-16  1084939099   \n",
       "4  [{\"iso_3166_1\": \"US\", \"name\": \"United States o...   2012-03-07   284139100   \n",
       "\n",
       "   runtime                                   spoken_languages    status  \\\n",
       "0    162.0  [{\"iso_639_1\": \"en\", \"name\": \"English\"}, {\"iso...  Released   \n",
       "1    169.0           [{\"iso_639_1\": \"en\", \"name\": \"English\"}]  Released   \n",
       "2    148.0  [{\"iso_639_1\": \"fr\", \"name\": \"Fran\\u00e7ais\"},...  Released   \n",
       "3    165.0           [{\"iso_639_1\": \"en\", \"name\": \"English\"}]  Released   \n",
       "4    132.0           [{\"iso_639_1\": \"en\", \"name\": \"English\"}]  Released   \n",
       "\n",
       "                                          tagline  \\\n",
       "0                     Enter the World of Pandora.   \n",
       "1  At the end of the world, the adventure begins.   \n",
       "2                           A Plan No One Escapes   \n",
       "3                                 The Legend Ends   \n",
       "4            Lost in our world, found in another.   \n",
       "\n",
       "                                      title  vote_average  vote_count  \n",
       "0                                    Avatar           7.2       11800  \n",
       "1  Pirates of the Caribbean: At World's End           6.9        4500  \n",
       "2                                   Spectre           6.3        4466  \n",
       "3                     The Dark Knight Rises           7.6        9106  \n",
       "4                               John Carter           6.1        2124  "
      ]
     },
     "execution_count": 41,
     "metadata": {},
     "output_type": "execute_result"
    }
   ],
   "source": [
    "tmdb.head()"
   ]
  },
  {
   "cell_type": "markdown",
   "id": "b7724cc7-25cd-49a5-988f-f4f757a546a1",
   "metadata": {},
   "source": [
    "<h2>Analisando a receita dos filmes</h2>"
   ]
  },
  {
   "cell_type": "markdown",
   "id": "a2448d1c-6517-4b3b-a50f-d0453bcef28c",
   "metadata": {},
   "source": [
    "Iremos analisar a distribuição da receita dos filmes através de um gráfico de histograma usando a coluna revenue"
   ]
  },
  {
   "cell_type": "code",
   "execution_count": 42,
   "id": "2660661e-14fb-414b-bdd9-8c68051d8860",
   "metadata": {},
   "outputs": [
    {
     "data": {
      "image/png": "[encoded data removed]",
      "text/plain": [
       "<Figure size 500x500 with 1 Axes>"
      ]
     },
     "metadata": {},
     "output_type": "display_data"
    }
   ],
   "source": [
    "sns.displot(tmdb[\"revenue\"])\n",
    "plt.title(\"Distribuição da receita dos filmes\")\n",
    "plt.show()"
   ]
  },
  {
   "cell_type": "markdown",
   "id": "e5d23e83-37cc-47c1-a097-aafdb9f26e66",
   "metadata": {},
   "source": [
    "podemos observar que muitos filmes tiveram pouco faturamento, e poucos filmes tiveram muito faturamento, é importante notar que os números relacionados ao faturamento estão na escala de bilhão"
   ]
  },
  {
   "cell_type": "markdown",
   "id": "fc34d32b-f08d-494c-8500-35c91c0fe4c9",
   "metadata": {},
   "source": [
    "Agora é sua vez, faça o mesmo para a coluna budget"
   ]
  },
  {
   "cell_type": "code",
   "execution_count": 43,
   "id": "126a160d-343c-4de6-bca9-fab13dca7cf5",
   "metadata": {},
   "outputs": [
    {
     "data": {
      "image/png": "[encoded data removed]",
      "text/plain": [
       "<Figure size 500x500 with 1 Axes>"
      ]
     },
     "metadata": {},
     "output_type": "display_data"
    }
   ],
   "source": [
    "sns.displot(tmdb[\"budget\"])\n",
    "plt.title(\"Distribuição do orçamento dos filmes\")\n",
    "plt.show()"
   ]
  },
  {
   "cell_type": "markdown",
   "id": "7af2588d-eab5-413c-8bb2-fd2c5c71fd51",
   "metadata": {},
   "source": [
    "<h2>Método info()</h2>"
   ]
  },
  {
   "cell_type": "markdown",
   "id": "007a6665-7d24-42eb-bf64-626258a7d7c9",
   "metadata": {},
   "source": [
    "O método info() fornece um resumo sobre nosso DataFrame, ajudando na análise exploratória inicial"
   ]
  },
  {
   "cell_type": "code",
   "execution_count": 44,
   "id": "fd97110d-3caf-4c0f-ab55-420e73cb9366",
   "metadata": {},
   "outputs": [
    {
     "name": "stdout",
     "output_type": "stream",
     "text": [
      "<class 'pandas.core.frame.DataFrame'>\n",
      "RangeIndex: 4803 entries, 0 to 4802\n",
      "Data columns (total 20 columns):\n",
      " #   Column                Non-Null Count  Dtype  \n",
      "---  ------                --------------  -----  \n",
      " 0   budget                4803 non-null   int64  \n",
      " 1   genres                4803 non-null   object \n",
      " 2   homepage              1712 non-null   object \n",
      " 3   id                    4803 non-null   int64  \n",
      " 4   keywords              4803 non-null   object \n",
      " 5   original_language     4803 non-null   object \n",
      " 6   original_title        4803 non-null   object \n",
      " 7   overview              4800 non-null   object \n",
      " 8   popularity            4803 non-null   float64\n",
      " 9   production_companies  4803 non-null   object \n",
      " 10  production_countries  4803 non-null   object \n",
      " 11  release_date          4802 non-null   object \n",
      " 12  revenue               4803 non-null   int64  \n",
      " 13  runtime               4801 non-null   float64\n",
      " 14  spoken_languages      4803 non-null   object \n",
      " 15  status                4803 non-null   object \n",
      " 16  tagline               3959 non-null   object \n",
      " 17  title                 4803 non-null   object \n",
      " 18  vote_average          4803 non-null   float64\n",
      " 19  vote_count            4803 non-null   int64  \n",
      "dtypes: float64(3), int64(4), object(13)\n",
      "memory usage: 750.6+ KB\n"
     ]
    }
   ],
   "source": [
    "tmdb.info()"
   ]
  },
  {
   "cell_type": "markdown",
   "id": "bb649ac5-6def-44cd-b1b0-c851ccbdcde3",
   "metadata": {},
   "source": [
    "<h2>Vamos explorar os dados e analisar quais filmes tiveram um faturamento menor que mil dolares</h2>"
   ]
  },
  {
   "cell_type": "code",
   "execution_count": 45,
   "id": "2dea90c3-7a2d-4e2d-8624-b978d76f7e61",
   "metadata": {},
   "outputs": [
    {
     "data": {
      "text/html": [
       "<div>\n",
       "<style scoped>\n",
       "    .dataframe tbody tr th:only-of-type {\n",
       "        vertical-align: middle;\n",
       "    }\n",
       "\n",
       "    .dataframe tbody tr th {\n",
       "        vertical-align: top;\n",
       "    }\n",
       "\n",
       "    .dataframe thead th {\n",
       "        text-align: right;\n",
       "    }\n",
       "</style>\n",
       "<table border=\"1\" class=\"dataframe\">\n",
       "  <thead>\n",
       "    <tr style=\"text-align: right;\">\n",
       "      <th></th>\n",
       "      <th>budget</th>\n",
       "      <th>genres</th>\n",
       "      <th>homepage</th>\n",
       "      <th>id</th>\n",
       "      <th>keywords</th>\n",
       "      <th>original_language</th>\n",
       "      <th>original_title</th>\n",
       "      <th>overview</th>\n",
       "      <th>popularity</th>\n",
       "      <th>production_companies</th>\n",
       "      <th>production_countries</th>\n",
       "      <th>release_date</th>\n",
       "      <th>revenue</th>\n",
       "      <th>runtime</th>\n",
       "      <th>spoken_languages</th>\n",
       "      <th>status</th>\n",
       "      <th>tagline</th>\n",
       "      <th>title</th>\n",
       "      <th>vote_average</th>\n",
       "      <th>vote_count</th>\n",
       "    </tr>\n",
       "  </thead>\n",
       "  <tbody>\n",
       "    <tr>\n",
       "      <th>83</th>\n",
       "      <td>27000000</td>\n",
       "      <td>[{\"id\": 28, \"name\": \"Action\"}, {\"id\": 12, \"nam...</td>\n",
       "      <td>NaN</td>\n",
       "      <td>79698</td>\n",
       "      <td>[]</td>\n",
       "      <td>en</td>\n",
       "      <td>The Lovers</td>\n",
       "      <td>The Lovers is an epic romance time travel adve...</td>\n",
       "      <td>2.418535</td>\n",
       "      <td>[{\"name\": \"Corsan\", \"id\": 7299}, {\"name\": \"Bli...</td>\n",
       "      <td>[{\"iso_3166_1\": \"AU\", \"name\": \"Australia\"}, {\"...</td>\n",
       "      <td>2015-02-13</td>\n",
       "      <td>0</td>\n",
       "      <td>109.0</td>\n",
       "      <td>[{\"iso_639_1\": \"en\", \"name\": \"English\"}]</td>\n",
       "      <td>Released</td>\n",
       "      <td>Love is longer than life.</td>\n",
       "      <td>The Lovers</td>\n",
       "      <td>4.8</td>\n",
       "      <td>34</td>\n",
       "    </tr>\n",
       "    <tr>\n",
       "      <th>135</th>\n",
       "      <td>150000000</td>\n",
       "      <td>[{\"id\": 18, \"name\": \"Drama\"}, {\"id\": 27, \"name...</td>\n",
       "      <td>http://www.thewolfmanmovie.com/</td>\n",
       "      <td>7978</td>\n",
       "      <td>[{\"id\": 494, \"name\": \"father son relationship\"...</td>\n",
       "      <td>en</td>\n",
       "      <td>The Wolfman</td>\n",
       "      <td>Lawrence Talbot, an American man on a visit to...</td>\n",
       "      <td>21.214571</td>\n",
       "      <td>[{\"name\": \"Universal Pictures\", \"id\": 33}, {\"n...</td>\n",
       "      <td>[{\"iso_3166_1\": \"US\", \"name\": \"United States o...</td>\n",
       "      <td>2010-02-11</td>\n",
       "      <td>0</td>\n",
       "      <td>102.0</td>\n",
       "      <td>[{\"iso_639_1\": \"en\", \"name\": \"English\"}]</td>\n",
       "      <td>Released</td>\n",
       "      <td>When the moon is full the legend comes to life</td>\n",
       "      <td>The Wolfman</td>\n",
       "      <td>5.5</td>\n",
       "      <td>549</td>\n",
       "    </tr>\n",
       "    <tr>\n",
       "      <th>265</th>\n",
       "      <td>0</td>\n",
       "      <td>[{\"id\": 35, \"name\": \"Comedy\"}, {\"id\": 14, \"nam...</td>\n",
       "      <td>NaN</td>\n",
       "      <td>10588</td>\n",
       "      <td>[{\"id\": 977, \"name\": \"cat\"}, {\"id\": 1155, \"nam...</td>\n",
       "      <td>en</td>\n",
       "      <td>The Cat in the Hat</td>\n",
       "      <td>Conrad and Sally Walden are home alone with th...</td>\n",
       "      <td>18.251129</td>\n",
       "      <td>[{\"name\": \"Imagine Entertainment\", \"id\": 23}, ...</td>\n",
       "      <td>[{\"iso_3166_1\": \"US\", \"name\": \"United States o...</td>\n",
       "      <td>2003-11-21</td>\n",
       "      <td>0</td>\n",
       "      <td>82.0</td>\n",
       "      <td>[{\"iso_639_1\": \"en\", \"name\": \"English\"}]</td>\n",
       "      <td>Released</td>\n",
       "      <td>Don't mess with the hat.</td>\n",
       "      <td>The Cat in the Hat</td>\n",
       "      <td>4.9</td>\n",
       "      <td>366</td>\n",
       "    </tr>\n",
       "    <tr>\n",
       "      <th>309</th>\n",
       "      <td>84000000</td>\n",
       "      <td>[{\"id\": 14, \"name\": \"Fantasy\"}, {\"id\": 35, \"na...</td>\n",
       "      <td>NaN</td>\n",
       "      <td>10214</td>\n",
       "      <td>[{\"id\": 1009, \"name\": \"baby\"}, {\"id\": 2546, \"n...</td>\n",
       "      <td>en</td>\n",
       "      <td>Son of the Mask</td>\n",
       "      <td>Tim Avery, an aspiring cartoonist, finds himse...</td>\n",
       "      <td>17.815595</td>\n",
       "      <td>[{\"name\": \"New Line Cinema\", \"id\": 12}, {\"name...</td>\n",
       "      <td>[{\"iso_3166_1\": \"DE\", \"name\": \"Germany\"}, {\"is...</td>\n",
       "      <td>2005-02-18</td>\n",
       "      <td>0</td>\n",
       "      <td>94.0</td>\n",
       "      <td>[{\"iso_639_1\": \"en\", \"name\": \"English\"}]</td>\n",
       "      <td>Released</td>\n",
       "      <td>Who's next?</td>\n",
       "      <td>Son of the Mask</td>\n",
       "      <td>3.6</td>\n",
       "      <td>338</td>\n",
       "    </tr>\n",
       "    <tr>\n",
       "      <th>376</th>\n",
       "      <td>90000000</td>\n",
       "      <td>[{\"id\": 878, \"name\": \"Science Fiction\"}, {\"id\"...</td>\n",
       "      <td>NaN</td>\n",
       "      <td>10357</td>\n",
       "      <td>[{\"id\": 1552, \"name\": \"subway\"}, {\"id\": 2859, ...</td>\n",
       "      <td>en</td>\n",
       "      <td>Volcano</td>\n",
       "      <td>An earthquake shatters a peaceful Los Angeles ...</td>\n",
       "      <td>19.836124</td>\n",
       "      <td>[{\"name\": \"Twentieth Century Fox Film Corporat...</td>\n",
       "      <td>[{\"iso_3166_1\": \"US\", \"name\": \"United States o...</td>\n",
       "      <td>1997-04-25</td>\n",
       "      <td>0</td>\n",
       "      <td>104.0</td>\n",
       "      <td>[{\"iso_639_1\": \"de\", \"name\": \"Deutsch\"}, {\"iso...</td>\n",
       "      <td>Released</td>\n",
       "      <td>The coast is toast</td>\n",
       "      <td>Volcano</td>\n",
       "      <td>5.2</td>\n",
       "      <td>376</td>\n",
       "    </tr>\n",
       "    <tr>\n",
       "      <th>...</th>\n",
       "      <td>...</td>\n",
       "      <td>...</td>\n",
       "      <td>...</td>\n",
       "      <td>...</td>\n",
       "      <td>...</td>\n",
       "      <td>...</td>\n",
       "      <td>...</td>\n",
       "      <td>...</td>\n",
       "      <td>...</td>\n",
       "      <td>...</td>\n",
       "      <td>...</td>\n",
       "      <td>...</td>\n",
       "      <td>...</td>\n",
       "      <td>...</td>\n",
       "      <td>...</td>\n",
       "      <td>...</td>\n",
       "      <td>...</td>\n",
       "      <td>...</td>\n",
       "      <td>...</td>\n",
       "      <td>...</td>\n",
       "    </tr>\n",
       "    <tr>\n",
       "      <th>4797</th>\n",
       "      <td>0</td>\n",
       "      <td>[{\"id\": 10769, \"name\": \"Foreign\"}, {\"id\": 53, ...</td>\n",
       "      <td>NaN</td>\n",
       "      <td>67238</td>\n",
       "      <td>[]</td>\n",
       "      <td>en</td>\n",
       "      <td>Cavite</td>\n",
       "      <td>Adam, a security guard, travels from Californi...</td>\n",
       "      <td>0.022173</td>\n",
       "      <td>[]</td>\n",
       "      <td>[]</td>\n",
       "      <td>2005-03-12</td>\n",
       "      <td>0</td>\n",
       "      <td>80.0</td>\n",
       "      <td>[]</td>\n",
       "      <td>Released</td>\n",
       "      <td>NaN</td>\n",
       "      <td>Cavite</td>\n",
       "      <td>7.5</td>\n",
       "      <td>2</td>\n",
       "    </tr>\n",
       "    <tr>\n",
       "      <th>4799</th>\n",
       "      <td>9000</td>\n",
       "      <td>[{\"id\": 35, \"name\": \"Comedy\"}, {\"id\": 10749, \"...</td>\n",
       "      <td>NaN</td>\n",
       "      <td>72766</td>\n",
       "      <td>[]</td>\n",
       "      <td>en</td>\n",
       "      <td>Newlyweds</td>\n",
       "      <td>A newlywed couple's honeymoon is upended by th...</td>\n",
       "      <td>0.642552</td>\n",
       "      <td>[]</td>\n",
       "      <td>[]</td>\n",
       "      <td>2011-12-26</td>\n",
       "      <td>0</td>\n",
       "      <td>85.0</td>\n",
       "      <td>[]</td>\n",
       "      <td>Released</td>\n",
       "      <td>A newlywed couple's honeymoon is upended by th...</td>\n",
       "      <td>Newlyweds</td>\n",
       "      <td>5.9</td>\n",
       "      <td>5</td>\n",
       "    </tr>\n",
       "    <tr>\n",
       "      <th>4800</th>\n",
       "      <td>0</td>\n",
       "      <td>[{\"id\": 35, \"name\": \"Comedy\"}, {\"id\": 18, \"nam...</td>\n",
       "      <td>http://www.hallmarkchannel.com/signedsealeddel...</td>\n",
       "      <td>231617</td>\n",
       "      <td>[{\"id\": 248, \"name\": \"date\"}, {\"id\": 699, \"nam...</td>\n",
       "      <td>en</td>\n",
       "      <td>Signed, Sealed, Delivered</td>\n",
       "      <td>\"Signed, Sealed, Delivered\" introduces a dedic...</td>\n",
       "      <td>1.444476</td>\n",
       "      <td>[{\"name\": \"Front Street Pictures\", \"id\": 3958}...</td>\n",
       "      <td>[{\"iso_3166_1\": \"US\", \"name\": \"United States o...</td>\n",
       "      <td>2013-10-13</td>\n",
       "      <td>0</td>\n",
       "      <td>120.0</td>\n",
       "      <td>[{\"iso_639_1\": \"en\", \"name\": \"English\"}]</td>\n",
       "      <td>Released</td>\n",
       "      <td>NaN</td>\n",
       "      <td>Signed, Sealed, Delivered</td>\n",
       "      <td>7.0</td>\n",
       "      <td>6</td>\n",
       "    </tr>\n",
       "    <tr>\n",
       "      <th>4801</th>\n",
       "      <td>0</td>\n",
       "      <td>[]</td>\n",
       "      <td>http://shanghaicalling.com/</td>\n",
       "      <td>126186</td>\n",
       "      <td>[]</td>\n",
       "      <td>en</td>\n",
       "      <td>Shanghai Calling</td>\n",
       "      <td>When ambitious New York attorney Sam is sent t...</td>\n",
       "      <td>0.857008</td>\n",
       "      <td>[]</td>\n",
       "      <td>[{\"iso_3166_1\": \"US\", \"name\": \"United States o...</td>\n",
       "      <td>2012-05-03</td>\n",
       "      <td>0</td>\n",
       "      <td>98.0</td>\n",
       "      <td>[{\"iso_639_1\": \"en\", \"name\": \"English\"}]</td>\n",
       "      <td>Released</td>\n",
       "      <td>A New Yorker in Shanghai</td>\n",
       "      <td>Shanghai Calling</td>\n",
       "      <td>5.7</td>\n",
       "      <td>7</td>\n",
       "    </tr>\n",
       "    <tr>\n",
       "      <th>4802</th>\n",
       "      <td>0</td>\n",
       "      <td>[{\"id\": 99, \"name\": \"Documentary\"}]</td>\n",
       "      <td>NaN</td>\n",
       "      <td>25975</td>\n",
       "      <td>[{\"id\": 1523, \"name\": \"obsession\"}, {\"id\": 224...</td>\n",
       "      <td>en</td>\n",
       "      <td>My Date with Drew</td>\n",
       "      <td>Ever since the second grade when he first saw ...</td>\n",
       "      <td>1.929883</td>\n",
       "      <td>[{\"name\": \"rusty bear entertainment\", \"id\": 87...</td>\n",
       "      <td>[{\"iso_3166_1\": \"US\", \"name\": \"United States o...</td>\n",
       "      <td>2005-08-05</td>\n",
       "      <td>0</td>\n",
       "      <td>90.0</td>\n",
       "      <td>[{\"iso_639_1\": \"en\", \"name\": \"English\"}]</td>\n",
       "      <td>Released</td>\n",
       "      <td>NaN</td>\n",
       "      <td>My Date with Drew</td>\n",
       "      <td>6.3</td>\n",
       "      <td>16</td>\n",
       "    </tr>\n",
       "  </tbody>\n",
       "</table>\n",
       "<p>1449 rows × 20 columns</p>\n",
       "</div>"
      ],
      "text/plain": [
       "         budget                                             genres  \\\n",
       "83     27000000  [{\"id\": 28, \"name\": \"Action\"}, {\"id\": 12, \"nam...   \n",
       "135   150000000  [{\"id\": 18, \"name\": \"Drama\"}, {\"id\": 27, \"name...   \n",
       "265           0  [{\"id\": 35, \"name\": \"Comedy\"}, {\"id\": 14, \"nam...   \n",
       "309    84000000  [{\"id\": 14, \"name\": \"Fantasy\"}, {\"id\": 35, \"na...   \n",
       "376    90000000  [{\"id\": 878, \"name\": \"Science Fiction\"}, {\"id\"...   \n",
       "...         ...                                                ...   \n",
       "4797          0  [{\"id\": 10769, \"name\": \"Foreign\"}, {\"id\": 53, ...   \n",
       "4799       9000  [{\"id\": 35, \"name\": \"Comedy\"}, {\"id\": 10749, \"...   \n",
       "4800          0  [{\"id\": 35, \"name\": \"Comedy\"}, {\"id\": 18, \"nam...   \n",
       "4801          0                                                 []   \n",
       "4802          0                [{\"id\": 99, \"name\": \"Documentary\"}]   \n",
       "\n",
       "                                               homepage      id  \\\n",
       "83                                                  NaN   79698   \n",
       "135                     http://www.thewolfmanmovie.com/    7978   \n",
       "265                                                 NaN   10588   \n",
       "309                                                 NaN   10214   \n",
       "376                                                 NaN   10357   \n",
       "...                                                 ...     ...   \n",
       "4797                                                NaN   67238   \n",
       "4799                                                NaN   72766   \n",
       "4800  http://www.hallmarkchannel.com/signedsealeddel...  231617   \n",
       "4801                        http://shanghaicalling.com/  126186   \n",
       "4802                                                NaN   25975   \n",
       "\n",
       "                                               keywords original_language  \\\n",
       "83                                                   []                en   \n",
       "135   [{\"id\": 494, \"name\": \"father son relationship\"...                en   \n",
       "265   [{\"id\": 977, \"name\": \"cat\"}, {\"id\": 1155, \"nam...                en   \n",
       "309   [{\"id\": 1009, \"name\": \"baby\"}, {\"id\": 2546, \"n...                en   \n",
       "376   [{\"id\": 1552, \"name\": \"subway\"}, {\"id\": 2859, ...                en   \n",
       "...                                                 ...               ...   \n",
       "4797                                                 []                en   \n",
       "4799                                                 []                en   \n",
       "4800  [{\"id\": 248, \"name\": \"date\"}, {\"id\": 699, \"nam...                en   \n",
       "4801                                                 []                en   \n",
       "4802  [{\"id\": 1523, \"name\": \"obsession\"}, {\"id\": 224...                en   \n",
       "\n",
       "                 original_title  \\\n",
       "83                   The Lovers   \n",
       "135                 The Wolfman   \n",
       "265          The Cat in the Hat   \n",
       "309             Son of the Mask   \n",
       "376                     Volcano   \n",
       "...                         ...   \n",
       "4797                     Cavite   \n",
       "4799                  Newlyweds   \n",
       "4800  Signed, Sealed, Delivered   \n",
       "4801           Shanghai Calling   \n",
       "4802          My Date with Drew   \n",
       "\n",
       "                                               overview  popularity  \\\n",
       "83    The Lovers is an epic romance time travel adve...    2.418535   \n",
       "135   Lawrence Talbot, an American man on a visit to...   21.214571   \n",
       "265   Conrad and Sally Walden are home alone with th...   18.251129   \n",
       "309   Tim Avery, an aspiring cartoonist, finds himse...   17.815595   \n",
       "376   An earthquake shatters a peaceful Los Angeles ...   19.836124   \n",
       "...                                                 ...         ...   \n",
       "4797  Adam, a security guard, travels from Californi...    0.022173   \n",
       "4799  A newlywed couple's honeymoon is upended by th...    0.642552   \n",
       "4800  \"Signed, Sealed, Delivered\" introduces a dedic...    1.444476   \n",
       "4801  When ambitious New York attorney Sam is sent t...    0.857008   \n",
       "4802  Ever since the second grade when he first saw ...    1.929883   \n",
       "\n",
       "                                   production_companies  \\\n",
       "83    [{\"name\": \"Corsan\", \"id\": 7299}, {\"name\": \"Bli...   \n",
       "135   [{\"name\": \"Universal Pictures\", \"id\": 33}, {\"n...   \n",
       "265   [{\"name\": \"Imagine Entertainment\", \"id\": 23}, ...   \n",
       "309   [{\"name\": \"New Line Cinema\", \"id\": 12}, {\"name...   \n",
       "376   [{\"name\": \"Twentieth Century Fox Film Corporat...   \n",
       "...                                                 ...   \n",
       "4797                                                 []   \n",
       "4799                                                 []   \n",
       "4800  [{\"name\": \"Front Street Pictures\", \"id\": 3958}...   \n",
       "4801                                                 []   \n",
       "4802  [{\"name\": \"rusty bear entertainment\", \"id\": 87...   \n",
       "\n",
       "                                   production_countries release_date  revenue  \\\n",
       "83    [{\"iso_3166_1\": \"AU\", \"name\": \"Australia\"}, {\"...   2015-02-13        0   \n",
       "135   [{\"iso_3166_1\": \"US\", \"name\": \"United States o...   2010-02-11        0   \n",
       "265   [{\"iso_3166_1\": \"US\", \"name\": \"United States o...   2003-11-21        0   \n",
       "309   [{\"iso_3166_1\": \"DE\", \"name\": \"Germany\"}, {\"is...   2005-02-18        0   \n",
       "376   [{\"iso_3166_1\": \"US\", \"name\": \"United States o...   1997-04-25        0   \n",
       "...                                                 ...          ...      ...   \n",
       "4797                                                 []   2005-03-12        0   \n",
       "4799                                                 []   2011-12-26        0   \n",
       "4800  [{\"iso_3166_1\": \"US\", \"name\": \"United States o...   2013-10-13        0   \n",
       "4801  [{\"iso_3166_1\": \"US\", \"name\": \"United States o...   2012-05-03        0   \n",
       "4802  [{\"iso_3166_1\": \"US\", \"name\": \"United States o...   2005-08-05        0   \n",
       "\n",
       "      runtime                                   spoken_languages    status  \\\n",
       "83      109.0           [{\"iso_639_1\": \"en\", \"name\": \"English\"}]  Released   \n",
       "135     102.0           [{\"iso_639_1\": \"en\", \"name\": \"English\"}]  Released   \n",
       "265      82.0           [{\"iso_639_1\": \"en\", \"name\": \"English\"}]  Released   \n",
       "309      94.0           [{\"iso_639_1\": \"en\", \"name\": \"English\"}]  Released   \n",
       "376     104.0  [{\"iso_639_1\": \"de\", \"name\": \"Deutsch\"}, {\"iso...  Released   \n",
       "...       ...                                                ...       ...   \n",
       "4797     80.0                                                 []  Released   \n",
       "4799     85.0                                                 []  Released   \n",
       "4800    120.0           [{\"iso_639_1\": \"en\", \"name\": \"English\"}]  Released   \n",
       "4801     98.0           [{\"iso_639_1\": \"en\", \"name\": \"English\"}]  Released   \n",
       "4802     90.0           [{\"iso_639_1\": \"en\", \"name\": \"English\"}]  Released   \n",
       "\n",
       "                                                tagline  \\\n",
       "83                            Love is longer than life.   \n",
       "135      When the moon is full the legend comes to life   \n",
       "265                            Don't mess with the hat.   \n",
       "309                                         Who's next?   \n",
       "376                                  The coast is toast   \n",
       "...                                                 ...   \n",
       "4797                                                NaN   \n",
       "4799  A newlywed couple's honeymoon is upended by th...   \n",
       "4800                                                NaN   \n",
       "4801                           A New Yorker in Shanghai   \n",
       "4802                                                NaN   \n",
       "\n",
       "                          title  vote_average  vote_count  \n",
       "83                   The Lovers           4.8          34  \n",
       "135                 The Wolfman           5.5         549  \n",
       "265          The Cat in the Hat           4.9         366  \n",
       "309             Son of the Mask           3.6         338  \n",
       "376                     Volcano           5.2         376  \n",
       "...                         ...           ...         ...  \n",
       "4797                     Cavite           7.5           2  \n",
       "4799                  Newlyweds           5.9           5  \n",
       "4800  Signed, Sealed, Delivered           7.0           6  \n",
       "4801           Shanghai Calling           5.7           7  \n",
       "4802          My Date with Drew           6.3          16  \n",
       "\n",
       "[1449 rows x 20 columns]"
      ]
     },
     "execution_count": 45,
     "metadata": {},
     "output_type": "execute_result"
    }
   ],
   "source": [
    "tmdb.query(\"revenue < 1000\")"
   ]
  },
  {
   "cell_type": "markdown",
   "id": "2d892602-7d96-4c24-a8ce-667b1d163307",
   "metadata": {},
   "source": [
    "Podemos observar que existem muitos filmes com faturamento igual a zero, isso no entanto não significa necessáriamente que esses filmes não tiveram nenhum faturamento, opde ser que o faturamento apenas não foi registrado por algum motivo, e estes filmes sem os dados de faturamente estão atrapalhando tirarmos conclusões claras do nosso DataFrame, por isso vamos criar uma variável e guardar apenas os faturamentos superiores à zero"
   ]
  },
  {
   "cell_type": "code",
   "execution_count": 46,
   "id": "3a02fc72-a7ea-4080-af88-7cf361964d42",
   "metadata": {},
   "outputs": [],
   "source": [
    "com_faturamento = tmdb.query(\"revenue > 0\")"
   ]
  },
  {
   "cell_type": "markdown",
   "id": "bb21e2fb-aa58-439a-98d5-2312ed46db31",
   "metadata": {},
   "source": [
    "Agora iremos fazer outro gráfico de dispersão, porém apenas com o faturamento superior à zero"
   ]
  },
  {
   "cell_type": "code",
   "execution_count": 47,
   "id": "c6244dd0-8c99-4dd0-8d8a-e04d002a5174",
   "metadata": {},
   "outputs": [
    {
     "data": {
      "text/plain": [
       "<seaborn.axisgrid.FacetGrid at 0x7f5bd7ea9640>"
      ]
     },
     "execution_count": 47,
     "metadata": {},
     "output_type": "execute_result"
    },
    {
     "data": {
      "image/png": "[encoded data removed]",
      "text/plain": [
       "<Figure size 500x500 with 1 Axes>"
      ]
     },
     "metadata": {},
     "output_type": "display_data"
    }
   ],
   "source": [
    "sns.displot(com_faturamento[\"revenue\"])"
   ]
  },
  {
   "cell_type": "markdown",
   "id": "d9b6987f-3ea8-4e88-a4fe-4dbcec1febf6",
   "metadata": {},
   "source": [
    "Podemos observar que houve uma mudança significativa nesse gráfico em relação ao gráfico que contabilizava filmes comfaturamento igual à zero, no entanto ainda é possível notal que grande parte dos filmes teve menos de meio bilhão em faturamento"
   ]
  },
  {
   "cell_type": "markdown",
   "id": "2bf793aa-88c3-4d17-8ac6-8ff29a531035",
   "metadata": {},
   "source": [
    "Vamos fazer uma análise com o boxplot"
   ]
  },
  {
   "cell_type": "code",
   "execution_count": 48,
   "id": "398a299b-80fe-41df-8ffc-9a91584a3154",
   "metadata": {},
   "outputs": [
    {
     "data": {
      "text/plain": [
       "<AxesSubplot:ylabel='revenue'>"
      ]
     },
     "execution_count": 48,
     "metadata": {},
     "output_type": "execute_result"
    },
    {
     "data": {
      "image/png": "[encoded data removed]",
      "text/plain": [
       "<Figure size 640x480 with 1 Axes>"
      ]
     },
     "metadata": {},
     "output_type": "display_data"
    }
   ],
   "source": [
    "sns.boxplot(com_faturamento[\"revenue\"])"
   ]
  },
  {
   "cell_type": "code",
   "execution_count": 49,
   "id": "a8d7554d-257c-4f69-b0bc-aa9068b5de02",
   "metadata": {},
   "outputs": [
    {
     "data": {
      "text/plain": [
       "count    3.376000e+03\n",
       "mean     1.170314e+08\n",
       "std      1.834831e+08\n",
       "min      5.000000e+00\n",
       "25%      1.535290e+07\n",
       "50%      5.175184e+07\n",
       "75%      1.401651e+08\n",
       "max      2.787965e+09\n",
       "Name: revenue, dtype: float64"
      ]
     },
     "execution_count": 49,
     "metadata": {},
     "output_type": "execute_result"
    }
   ],
   "source": [
    "com_faturamento[\"revenue\"].describe()"
   ]
  },
  {
   "cell_type": "markdown",
   "id": "7e3f74b2-363b-40b9-819e-8f731285de9e",
   "metadata": {},
   "source": [
    "Podemos notar que quanto maior o faturamento, mais espalhado é a distribuição"
   ]
  },
  {
   "cell_type": "markdown",
   "id": "7e745d9a-02ed-4cb7-bfb9-7a038a31e3ab",
   "metadata": {},
   "source": [
    "<h2>Quais as linguas originais dos filmes?</h2>"
   ]
  },
  {
   "cell_type": "markdown",
   "id": "41421e09-4cdb-4684-a999-00aa66702661",
   "metadata": {},
   "source": [
    "Utilizando o método unique() já visto anteriormente, descubra todas as linguas originais contida na coluna original_laguage"
   ]
  },
  {
   "cell_type": "code",
   "execution_count": 50,
   "id": "6b56b777-06dd-4ba8-b9e3-7f57581cc4ed",
   "metadata": {},
   "outputs": [
    {
     "data": {
      "text/plain": [
       "array(['en', 'ja', 'fr', 'zh', 'es', 'de', 'hi', 'ru', 'ko', 'te', 'cn',\n",
       "       'it', 'nl', 'ta', 'sv', 'th', 'da', 'xx', 'hu', 'cs', 'pt', 'is',\n",
       "       'tr', 'nb', 'af', 'pl', 'he', 'ar', 'vi', 'ky', 'id', 'ro', 'fa',\n",
       "       'no', 'sl', 'ps', 'el'], dtype=object)"
      ]
     },
     "execution_count": 50,
     "metadata": {},
     "output_type": "execute_result"
    }
   ],
   "source": [
    "tmdb['original_language'].unique()"
   ]
  },
  {
   "cell_type": "markdown",
   "id": "8229cbad-6ef4-4927-be06-5af03bcc4d82",
   "metadata": {},
   "source": [
    "Utilizando o método value_counts() já visto anteriormente, descubra qual a frequência de cada lingua presente neste DataFrame"
   ]
  },
  {
   "cell_type": "code",
   "execution_count": 51,
   "id": "5a52a146-6833-4854-9bf9-a35f3622aee0",
   "metadata": {},
   "outputs": [
    {
     "data": {
      "text/plain": [
       "original_language\n",
       "en    4505\n",
       "fr      70\n",
       "es      32\n",
       "zh      27\n",
       "de      27\n",
       "hi      19\n",
       "ja      16\n",
       "it      14\n",
       "cn      12\n",
       "ru      11\n",
       "ko      11\n",
       "pt       9\n",
       "da       7\n",
       "sv       5\n",
       "nl       4\n",
       "fa       4\n",
       "th       3\n",
       "he       3\n",
       "ta       2\n",
       "cs       2\n",
       "ro       2\n",
       "id       2\n",
       "ar       2\n",
       "vi       1\n",
       "sl       1\n",
       "ps       1\n",
       "no       1\n",
       "ky       1\n",
       "hu       1\n",
       "pl       1\n",
       "af       1\n",
       "nb       1\n",
       "tr       1\n",
       "is       1\n",
       "xx       1\n",
       "te       1\n",
       "el       1\n",
       "Name: count, dtype: int64"
      ]
     },
     "execution_count": 51,
     "metadata": {},
     "output_type": "execute_result"
    }
   ],
   "source": [
    "tmdb['original_language'].value_counts()"
   ]
  },
  {
   "cell_type": "markdown",
   "id": "dc69bb54-5640-45d5-b8a1-b1b2f3735875",
   "metadata": {},
   "source": [
    "como já esperado inglês é a lingua original com maior frequência nos filmes deste DataFrame, chamamos isso de moda, não faz sentido tirar média ou mediana da coluna original_language, pois é uma coluna de variáveis categóricas"
   ]
  },
  {
   "cell_type": "markdown",
   "id": "e54eae51-7442-4c29-a25b-fb691cf028e6",
   "metadata": {},
   "source": [
    "<h2>Variáveis Categóricas</h2>"
   ]
  },
  {
   "cell_type": "markdown",
   "id": "ae39bc93-5060-42e3-a89d-9fdb185bce20",
   "metadata": {},
   "source": [
    "Variáveis categóricas, ou qualitativas, representam dados classificados em categorias, sem relação numérica direta entre as categorias. Elas são úteis para identificar padrões em subgrupos, pois permitem analisar a frequência de cada categoria"
   ]
  },
  {
   "cell_type": "markdown",
   "id": "cc4819e4-a494-4efa-8ca2-ccaa9ecfffac",
   "metadata": {},
   "source": [
    "Nominais: Não possuem ordem ou hierarquia entre as categorias (ex: cores, gêneros)"
   ]
  },
  {
   "cell_type": "markdown",
   "id": "82866ce6-2174-4068-91ed-5632ff5e1762",
   "metadata": {},
   "source": [
    "Ordinais: ossuem uma ordem ou classificação, mas as diferenças entre as categorias não são numéricas (ex: níveis de escolaridade, classificações de satisfação)"
   ]
  },
  {
   "cell_type": "markdown",
   "id": "e9310b36-c61b-478b-be61-cbe564fd2c8e",
   "metadata": {},
   "source": [
    "<h2>Variáveis Numéricas</h2>"
   ]
  },
  {
   "cell_type": "markdown",
   "id": "7cd95ec5-0160-48b5-9368-64091815be2c",
   "metadata": {},
   "source": [
    "Variáveis numéricas, também chamadas de variáveis quantitativas, representam valores numéricos que expressam quantidade ou intensidade. Elas podem ser analisadas com métodos estatísticos, como cálculo de média, mediana, desvio padrão, entre outros"
   ]
  },
  {
   "cell_type": "markdown",
   "id": "6c6b9b79-9eb1-45b9-adab-e70013d9b391",
   "metadata": {},
   "source": [
    "Continuas: Podem assumir qualquer valor dentro de um intervalo (ex: altura, peso, temperatura)"
   ]
  },
  {
   "cell_type": "markdown",
   "id": "08eb1212-8db2-4894-a649-9bae4928dc9c",
   "metadata": {},
   "source": [
    "Discretas: Assumem valores inteiros, geralmente representando contagens (ex: número de filhos, quantidade de produtos vendidos)"
   ]
  },
  {
   "cell_type": "markdown",
   "id": "962999c6-e78f-4946-b716-4406f1e53709",
   "metadata": {},
   "source": [
    "<h2>4. Visualizando os dados</h2>"
   ]
  },
  {
   "cell_type": "markdown",
   "id": "c5604b17-7299-433a-9fee-ac8157982070",
   "metadata": {},
   "source": [
    "<h2>Countplot</h2>"
   ]
  },
  {
   "cell_type": "markdown",
   "id": "8d024867-eb28-4891-ac76-c11db4fa4470",
   "metadata": {},
   "source": [
    "Countplot é uma função do Seaborn usado para contagem, que mostra a frequência de ocorrencia de cada categoria em uma variável categóica"
   ]
  },
  {
   "cell_type": "markdown",
   "id": "11d8d804-35e2-4400-8354-c8f34f5e1642",
   "metadata": {},
   "source": [
    "Vamos usar o countplot para visualizar a frequência de cada lingua  na coluna original language"
   ]
  },
  {
   "cell_type": "code",
   "execution_count": 52,
   "id": "7c12b69f-8e16-4534-88f6-84b05241f5a0",
   "metadata": {},
   "outputs": [
    {
     "data": {
      "text/plain": [
       "<AxesSubplot:xlabel='original_language', ylabel='count'>"
      ]
     },
     "execution_count": 52,
     "metadata": {},
     "output_type": "execute_result"
    },
    {
     "data": {
      "image/png": "[encoded data removed]",
      "text/plain": [
       "<Figure size 640x480 with 1 Axes>"
      ]
     },
     "metadata": {},
     "output_type": "display_data"
    }
   ],
   "source": [
    "sns.countplot(x = \"original_language\", data = tmdb)"
   ]
  },
  {
   "cell_type": "markdown",
   "id": "58e074af-444c-4f2c-8464-f3a06928d9f9",
   "metadata": {},
   "source": [
    "Devido a grande diferênça na quantidade de filmes com lingua original inglesa e filmes com lingua diferente do inglês, mal conseguimos analisar a frequência dos filmes com lingua original diferente do inglês, por isso criaremos um gráfico apenas para os filmes com outras linguas, para melhor visualização, fazeremos um gráfico de barras horizontais."
   ]
  },
  {
   "cell_type": "code",
   "execution_count": 58,
   "id": "f0f574e4-13b1-4a05-aeff-a91b13eeafe5",
   "metadata": {},
   "outputs": [
    {
     "data": {
      "image/png": "[encoded data removed]",
      "text/plain": [
       "<Figure size 640x480 with 1 Axes>"
      ]
     },
     "metadata": {},
     "output_type": "display_data"
    }
   ],
   "source": [
    "sns.countplot(y = \"original_language\", data=tmdb.query(\"original_language != 'en'\"))\n",
    "plt.show()"
   ]
  },
  {
   "cell_type": "markdown",
   "id": "395e98f1-f481-4534-966f-c01843b962d2",
   "metadata": {},
   "source": [
    "<h2>Pieplot</h2>"
   ]
  },
  {
   "cell_type": "markdown",
   "id": "49a81b45-c4c5-4e0a-8c78-898cfce691eb",
   "metadata": {},
   "source": [
    "Piplot é uma função do pandas que gera um gráfico de pizza para mostrar a distribuição de uma variável categórica, representando as partes de um todo como fatias de um círculo"
   ]
  },
  {
   "cell_type": "markdown",
   "id": "1d152c7b-7fe8-4769-ae14-da054645e0e5",
   "metadata": {},
   "source": [
    "Vamos criar um gráfico de pizza em pandas para representar a porcentagem que cada lingua original representa no total de filmes"
   ]
  },
  {
   "cell_type": "markdown",
   "id": "dbd95c3f-2100-4201-9634-4985b74b6bd9",
   "metadata": {},
   "source": [
    "diferente de countplot que conta a frequencia de cada categoria de forma automática, com o pieplot teremos que fazer issod e forma manual"
   ]
  },
  {
   "cell_type": "markdown",
   "id": "7de698e2-0690-4de4-bacd-cf5ec44b473e",
   "metadata": {},
   "source": [
    "vamos inicialmente decompor a coluna original language"
   ]
  },
  {
   "cell_type": "code",
   "execution_count": 60,
   "id": "d0e75c52-735b-4454-a710-8d5c78e52b44",
   "metadata": {},
   "outputs": [
    {
     "data": {
      "text/plain": [
       "Index(['en', 'fr', 'es', 'zh', 'de', 'hi', 'ja', 'it', 'cn', 'ru', 'ko', 'pt',\n",
       "       'da', 'sv', 'nl', 'fa', 'th', 'he', 'ta', 'cs', 'ro', 'id', 'ar', 'vi',\n",
       "       'sl', 'ps', 'no', 'ky', 'hu', 'pl', 'af', 'nb', 'tr', 'is', 'xx', 'te',\n",
       "       'el'],\n",
       "      dtype='object', name='original_language')"
      ]
     },
     "execution_count": 60,
     "metadata": {},
     "output_type": "execute_result"
    }
   ],
   "source": [
    "tmdb[\"original_language\"].value_counts().index"
   ]
  },
  {
   "cell_type": "code",
   "execution_count": 61,
   "id": "2b7ae78a-7f04-4a03-8da2-241b80764432",
   "metadata": {},
   "outputs": [
    {
     "data": {
      "text/plain": [
       "array([4505,   70,   32,   27,   27,   19,   16,   14,   12,   11,   11,\n",
       "          9,    7,    5,    4,    4,    3,    3,    2,    2,    2,    2,\n",
       "          2,    1,    1,    1,    1,    1,    1,    1,    1,    1,    1,\n",
       "          1,    1,    1,    1])"
      ]
     },
     "execution_count": 61,
     "metadata": {},
     "output_type": "execute_result"
    }
   ],
   "source": [
    "tmdb[\"original_language\"].value_counts().values"
   ]
  },
  {
   "cell_type": "markdown",
   "id": "6ca81f48-5f48-40c4-9835-c5d7347c6f88",
   "metadata": {},
   "source": [
    "iremos trasnformar esses dados em um único dataframe"
   ]
  },
  {
   "cell_type": "code",
   "execution_count": 65,
   "id": "b8cd3654-f516-4fa1-8414-64b0b481a4ed",
   "metadata": {},
   "outputs": [
    {
     "data": {
      "text/html": [
       "<div>\n",
       "<style scoped>\n",
       "    .dataframe tbody tr th:only-of-type {\n",
       "        vertical-align: middle;\n",
       "    }\n",
       "\n",
       "    .dataframe tbody tr th {\n",
       "        vertical-align: top;\n",
       "    }\n",
       "\n",
       "    .dataframe thead th {\n",
       "        text-align: right;\n",
       "    }\n",
       "</style>\n",
       "<table border=\"1\" class=\"dataframe\">\n",
       "  <thead>\n",
       "    <tr style=\"text-align: right;\">\n",
       "      <th></th>\n",
       "      <th>original_language</th>\n",
       "      <th>count</th>\n",
       "    </tr>\n",
       "  </thead>\n",
       "  <tbody>\n",
       "    <tr>\n",
       "      <th>0</th>\n",
       "      <td>en</td>\n",
       "      <td>4505</td>\n",
       "    </tr>\n",
       "    <tr>\n",
       "      <th>1</th>\n",
       "      <td>fr</td>\n",
       "      <td>70</td>\n",
       "    </tr>\n",
       "    <tr>\n",
       "      <th>2</th>\n",
       "      <td>es</td>\n",
       "      <td>32</td>\n",
       "    </tr>\n",
       "    <tr>\n",
       "      <th>3</th>\n",
       "      <td>zh</td>\n",
       "      <td>27</td>\n",
       "    </tr>\n",
       "    <tr>\n",
       "      <th>4</th>\n",
       "      <td>de</td>\n",
       "      <td>27</td>\n",
       "    </tr>\n",
       "    <tr>\n",
       "      <th>5</th>\n",
       "      <td>hi</td>\n",
       "      <td>19</td>\n",
       "    </tr>\n",
       "    <tr>\n",
       "      <th>6</th>\n",
       "      <td>ja</td>\n",
       "      <td>16</td>\n",
       "    </tr>\n",
       "    <tr>\n",
       "      <th>7</th>\n",
       "      <td>it</td>\n",
       "      <td>14</td>\n",
       "    </tr>\n",
       "    <tr>\n",
       "      <th>8</th>\n",
       "      <td>cn</td>\n",
       "      <td>12</td>\n",
       "    </tr>\n",
       "    <tr>\n",
       "      <th>9</th>\n",
       "      <td>ru</td>\n",
       "      <td>11</td>\n",
       "    </tr>\n",
       "    <tr>\n",
       "      <th>10</th>\n",
       "      <td>ko</td>\n",
       "      <td>11</td>\n",
       "    </tr>\n",
       "    <tr>\n",
       "      <th>11</th>\n",
       "      <td>pt</td>\n",
       "      <td>9</td>\n",
       "    </tr>\n",
       "    <tr>\n",
       "      <th>12</th>\n",
       "      <td>da</td>\n",
       "      <td>7</td>\n",
       "    </tr>\n",
       "    <tr>\n",
       "      <th>13</th>\n",
       "      <td>sv</td>\n",
       "      <td>5</td>\n",
       "    </tr>\n",
       "    <tr>\n",
       "      <th>14</th>\n",
       "      <td>nl</td>\n",
       "      <td>4</td>\n",
       "    </tr>\n",
       "    <tr>\n",
       "      <th>15</th>\n",
       "      <td>fa</td>\n",
       "      <td>4</td>\n",
       "    </tr>\n",
       "    <tr>\n",
       "      <th>16</th>\n",
       "      <td>th</td>\n",
       "      <td>3</td>\n",
       "    </tr>\n",
       "    <tr>\n",
       "      <th>17</th>\n",
       "      <td>he</td>\n",
       "      <td>3</td>\n",
       "    </tr>\n",
       "    <tr>\n",
       "      <th>18</th>\n",
       "      <td>ta</td>\n",
       "      <td>2</td>\n",
       "    </tr>\n",
       "    <tr>\n",
       "      <th>19</th>\n",
       "      <td>cs</td>\n",
       "      <td>2</td>\n",
       "    </tr>\n",
       "    <tr>\n",
       "      <th>20</th>\n",
       "      <td>ro</td>\n",
       "      <td>2</td>\n",
       "    </tr>\n",
       "    <tr>\n",
       "      <th>21</th>\n",
       "      <td>id</td>\n",
       "      <td>2</td>\n",
       "    </tr>\n",
       "    <tr>\n",
       "      <th>22</th>\n",
       "      <td>ar</td>\n",
       "      <td>2</td>\n",
       "    </tr>\n",
       "    <tr>\n",
       "      <th>23</th>\n",
       "      <td>vi</td>\n",
       "      <td>1</td>\n",
       "    </tr>\n",
       "    <tr>\n",
       "      <th>24</th>\n",
       "      <td>sl</td>\n",
       "      <td>1</td>\n",
       "    </tr>\n",
       "    <tr>\n",
       "      <th>25</th>\n",
       "      <td>ps</td>\n",
       "      <td>1</td>\n",
       "    </tr>\n",
       "    <tr>\n",
       "      <th>26</th>\n",
       "      <td>no</td>\n",
       "      <td>1</td>\n",
       "    </tr>\n",
       "    <tr>\n",
       "      <th>27</th>\n",
       "      <td>ky</td>\n",
       "      <td>1</td>\n",
       "    </tr>\n",
       "    <tr>\n",
       "      <th>28</th>\n",
       "      <td>hu</td>\n",
       "      <td>1</td>\n",
       "    </tr>\n",
       "    <tr>\n",
       "      <th>29</th>\n",
       "      <td>pl</td>\n",
       "      <td>1</td>\n",
       "    </tr>\n",
       "    <tr>\n",
       "      <th>30</th>\n",
       "      <td>af</td>\n",
       "      <td>1</td>\n",
       "    </tr>\n",
       "    <tr>\n",
       "      <th>31</th>\n",
       "      <td>nb</td>\n",
       "      <td>1</td>\n",
       "    </tr>\n",
       "    <tr>\n",
       "      <th>32</th>\n",
       "      <td>tr</td>\n",
       "      <td>1</td>\n",
       "    </tr>\n",
       "    <tr>\n",
       "      <th>33</th>\n",
       "      <td>is</td>\n",
       "      <td>1</td>\n",
       "    </tr>\n",
       "    <tr>\n",
       "      <th>34</th>\n",
       "      <td>xx</td>\n",
       "      <td>1</td>\n",
       "    </tr>\n",
       "    <tr>\n",
       "      <th>35</th>\n",
       "      <td>te</td>\n",
       "      <td>1</td>\n",
       "    </tr>\n",
       "    <tr>\n",
       "      <th>36</th>\n",
       "      <td>el</td>\n",
       "      <td>1</td>\n",
       "    </tr>\n",
       "  </tbody>\n",
       "</table>\n",
       "</div>"
      ],
      "text/plain": [
       "   original_language  count\n",
       "0                 en   4505\n",
       "1                 fr     70\n",
       "2                 es     32\n",
       "3                 zh     27\n",
       "4                 de     27\n",
       "5                 hi     19\n",
       "6                 ja     16\n",
       "7                 it     14\n",
       "8                 cn     12\n",
       "9                 ru     11\n",
       "10                ko     11\n",
       "11                pt      9\n",
       "12                da      7\n",
       "13                sv      5\n",
       "14                nl      4\n",
       "15                fa      4\n",
       "16                th      3\n",
       "17                he      3\n",
       "18                ta      2\n",
       "19                cs      2\n",
       "20                ro      2\n",
       "21                id      2\n",
       "22                ar      2\n",
       "23                vi      1\n",
       "24                sl      1\n",
       "25                ps      1\n",
       "26                no      1\n",
       "27                ky      1\n",
       "28                hu      1\n",
       "29                pl      1\n",
       "30                af      1\n",
       "31                nb      1\n",
       "32                tr      1\n",
       "33                is      1\n",
       "34                xx      1\n",
       "35                te      1\n",
       "36                el      1"
      ]
     },
     "execution_count": 65,
     "metadata": {},
     "output_type": "execute_result"
    }
   ],
   "source": [
    "contagem_de_lingua = tmdb[\"original_language\"].value_counts().to_frame().reset_index()\n",
    "contagem_de_lingua"
   ]
  },
  {
   "cell_type": "code",
   "execution_count": 68,
   "id": "f4301232-97dc-4d1a-93db-056eb2a30d8a",
   "metadata": {},
   "outputs": [
    {
     "data": {
      "text/html": [
       "<div>\n",
       "<style scoped>\n",
       "    .dataframe tbody tr th:only-of-type {\n",
       "        vertical-align: middle;\n",
       "    }\n",
       "\n",
       "    .dataframe tbody tr th {\n",
       "        vertical-align: top;\n",
       "    }\n",
       "\n",
       "    .dataframe thead th {\n",
       "        text-align: right;\n",
       "    }\n",
       "</style>\n",
       "<table border=\"1\" class=\"dataframe\">\n",
       "  <thead>\n",
       "    <tr style=\"text-align: right;\">\n",
       "      <th></th>\n",
       "      <th>original_language</th>\n",
       "      <th>total</th>\n",
       "    </tr>\n",
       "  </thead>\n",
       "  <tbody>\n",
       "    <tr>\n",
       "      <th>0</th>\n",
       "      <td>en</td>\n",
       "      <td>4505</td>\n",
       "    </tr>\n",
       "    <tr>\n",
       "      <th>1</th>\n",
       "      <td>fr</td>\n",
       "      <td>70</td>\n",
       "    </tr>\n",
       "    <tr>\n",
       "      <th>2</th>\n",
       "      <td>es</td>\n",
       "      <td>32</td>\n",
       "    </tr>\n",
       "    <tr>\n",
       "      <th>3</th>\n",
       "      <td>zh</td>\n",
       "      <td>27</td>\n",
       "    </tr>\n",
       "    <tr>\n",
       "      <th>4</th>\n",
       "      <td>de</td>\n",
       "      <td>27</td>\n",
       "    </tr>\n",
       "  </tbody>\n",
       "</table>\n",
       "</div>"
      ],
      "text/plain": [
       "  original_language  total\n",
       "0                en   4505\n",
       "1                fr     70\n",
       "2                es     32\n",
       "3                zh     27\n",
       "4                de     27"
      ]
     },
     "execution_count": 68,
     "metadata": {},
     "output_type": "execute_result"
    }
   ],
   "source": [
    "contagem_de_lingua.columns = [\"original_language\", \"total\"]\n",
    "contagem_de_lingua.head()"
   ]
  },
  {
   "cell_type": "markdown",
   "id": "2be969a5-8062-4799-9d8e-387ead46d7a0",
   "metadata": {},
   "source": [
    "Para fazermos o gráfico de pizza, faremos:"
   ]
  },
  {
   "cell_type": "code",
   "execution_count": 69,
   "id": "04fbb547-4ba9-47f7-b5b2-bd99aa72711e",
   "metadata": {},
   "outputs": [
    {
     "data": {
      "text/plain": [
       "<AxesSubplot:ylabel='total'>"
      ]
     },
     "execution_count": 69,
     "metadata": {},
     "output_type": "execute_result"
    },
    {
     "data": {
      "image/png": "[encoded data removed]",
      "text/plain": [
       "<Figure size 640x480 with 1 Axes>"
      ]
     },
     "metadata": {},
     "output_type": "display_data"
    }
   ],
   "source": [
    "contagem_de_lingua.plot(kind = \"pie\", y = \"total\")"
   ]
  },
  {
   "cell_type": "markdown",
   "id": "d9c513a1-eb56-422a-92be-99fc6f7f24ae",
   "metadata": {},
   "source": [
    "Podemos perceber que o gráfico de pizza não funcionou muito bem com uma quantidade de categorias muito grande, por isso é recomendado usar gráficos de pizza em situaçãoes que envolvam no máximo seis categorias"
   ]
  },
  {
   "cell_type": "markdown",
   "id": "8783a116-82c1-426b-994d-35173bd7f385",
   "metadata": {},
   "source": [
    "Agora agruparemos os dados em dois grupos, o grupo de filmes de lingu original inglesa e o grupo de lingua original não inglesa e faremos outro gráfico de pizza para comparação do percentual de cada categoria"
   ]
  },
  {
   "cell_type": "code",
   "execution_count": 73,
   "id": "12d20095-eef4-4758-8457-50c8df16ec16",
   "metadata": {},
   "outputs": [
    {
     "name": "stdout",
     "output_type": "stream",
     "text": [
      "4803 4505 298\n"
     ]
    }
   ],
   "source": [
    "total_por_lingua = tmdb[\"original_language\"].value_counts()\n",
    "total_geral = total_por_lingua.sum()\n",
    "total_de_ingles = total_por_lingua.loc[\"en\"]\n",
    "total_do_resto = total_geral - total_de_ingles\n",
    "print(total_geral, total_de_ingles, total_do_resto)\n"
   ]
  },
  {
   "cell_type": "code",
   "execution_count": 75,
   "id": "1446f6f2-d177-4015-8eaf-c471f12f3ce0",
   "metadata": {},
   "outputs": [
    {
     "data": {
      "text/html": [
       "<div>\n",
       "<style scoped>\n",
       "    .dataframe tbody tr th:only-of-type {\n",
       "        vertical-align: middle;\n",
       "    }\n",
       "\n",
       "    .dataframe tbody tr th {\n",
       "        vertical-align: top;\n",
       "    }\n",
       "\n",
       "    .dataframe thead th {\n",
       "        text-align: right;\n",
       "    }\n",
       "</style>\n",
       "<table border=\"1\" class=\"dataframe\">\n",
       "  <thead>\n",
       "    <tr style=\"text-align: right;\">\n",
       "      <th></th>\n",
       "      <th>lingua</th>\n",
       "      <th>total</th>\n",
       "    </tr>\n",
       "  </thead>\n",
       "  <tbody>\n",
       "    <tr>\n",
       "      <th>0</th>\n",
       "      <td>ingles</td>\n",
       "      <td>4505</td>\n",
       "    </tr>\n",
       "    <tr>\n",
       "      <th>1</th>\n",
       "      <td>outros</td>\n",
       "      <td>298</td>\n",
       "    </tr>\n",
       "  </tbody>\n",
       "</table>\n",
       "</div>"
      ],
      "text/plain": [
       "   lingua  total\n",
       "0  ingles   4505\n",
       "1  outros    298"
      ]
     },
     "execution_count": 75,
     "metadata": {},
     "output_type": "execute_result"
    }
   ],
   "source": [
    "dados = {\n",
    "  \"lingua\" : [\"ingles\", \"outros\"],\n",
    "  \"total\" : [total_de_ingles, total_do_resto]\n",
    "}\n",
    "dados = pd.DataFrame(dados)\n",
    "dados\n"
   ]
  },
  {
   "cell_type": "code",
   "execution_count": 76,
   "id": "c9da8a72-c082-49d5-b6e4-6413dd292b75",
   "metadata": {},
   "outputs": [
    {
     "data": {
      "text/plain": [
       "<AxesSubplot:ylabel='total'>"
      ]
     },
     "execution_count": 76,
     "metadata": {},
     "output_type": "execute_result"
    },
    {
     "data": {
      "image/png": "[encoded data removed]",
      "text/plain": [
       "<Figure size 640x480 with 1 Axes>"
      ]
     },
     "metadata": {},
     "output_type": "display_data"
    }
   ],
   "source": [
    "dados.plot(kind=\"pie\", y=\"total\", labels=dados[\"lingua\"])\n"
   ]
  },
  {
   "cell_type": "markdown",
   "id": "35a40562-df5e-4254-9cef-f55c2c3c09d9",
   "metadata": {},
   "source": [
    "Vamos melhorar a visualização dos dados, e ordenar o gráfico de barras que representa a frequencia de filmes de lingua não inglesa\n"
   ]
  },
  {
   "cell_type": "markdown",
   "id": "cd1e62bf-95a4-4116-a499-e599376c69d0",
   "metadata": {},
   "source": [
    "primeiro, vamos obter esses dados"
   ]
  },
  {
   "cell_type": "code",
   "execution_count": 86,
   "id": "6006d192-3720-4fd3-9253-853cca0b5690",
   "metadata": {},
   "outputs": [],
   "source": [
    "total_de_outros_filmes_por_lingua = tmdb.query(\"original_language != 'en'\")[\"original_language\"].value_counts()"
   ]
  },
  {
   "cell_type": "code",
   "execution_count": 88,
   "id": "05d3cc60-4e21-4f09-9117-c2c6c93c00cf",
   "metadata": {},
   "outputs": [
    {
     "data": {
      "text/plain": [
       "original_language\n",
       "fr    70\n",
       "es    32\n",
       "zh    27\n",
       "de    27\n",
       "hi    19\n",
       "Name: count, dtype: int64"
      ]
     },
     "execution_count": 88,
     "metadata": {},
     "output_type": "execute_result"
    }
   ],
   "source": [
    "total_de_outros_filmes_por_lingua.head()"
   ]
  },
  {
   "cell_type": "markdown",
   "id": "d8a9e78b-7cf4-4f3d-8888-a530347e71ae",
   "metadata": {},
   "source": [
    "agora iremos construir o gráfico"
   ]
  },
  {
   "cell_type": "code",
   "execution_count": 101,
   "id": "27b48f1d-d81b-4a25-8962-130f75a013cc",
   "metadata": {},
   "outputs": [
    {
     "data": {
      "image/png": "[encoded data removed]",
      "text/plain": [
       "<Figure size 640x480 with 1 Axes>"
      ]
     },
     "metadata": {},
     "output_type": "display_data"
    }
   ],
   "source": [
    "sns.countplot(y=\"original_language\",\n",
    "              order=total_de_outros_filmes_por_lingua.index,\n",
    "             data=tmdb.query(\"original_language != 'en'\"))\n",
    "plt.show()\n"
   ]
  },
  {
   "cell_type": "markdown",
   "id": "bbd0f61b-4fe7-48f9-ad02-bb83dd4e9279",
   "metadata": {},
   "source": [
    "sns.countplot(y=\"original_language\",\n",
    "              order=total_de_outros_filmes_por_lingua.index,\n",
    "              stat=\"percent\",\n",
    "             data=tmdb.query(\"original_language != 'en'\"))"
   ]
  },
  {
   "cell_type": "markdown",
   "id": "42d3619e-0406-4556-b692-3661692a134f",
   "metadata": {},
   "source": [
    "As vezes, iremos desejar saber o valor proporcional de cada categoria ao invés de seu valor absoluto, para fazer isso, iremos adicionar  stat=\"percente\" como argumento da função, se quisermos adicionar um título, podemos fazer plt.title depois da função de countplot e antes de plt.show()"
   ]
  },
  {
   "cell_type": "code",
   "execution_count": 102,
   "id": "507a4d18-c267-468c-841e-c14350634f6b",
   "metadata": {},
   "outputs": [
    {
     "data": {
      "text/plain": [
       "Text(0.5, 1.0, 'Distribuição dos filmes com lingua original diferente da inglesa')"
      ]
     },
     "execution_count": 102,
     "metadata": {},
     "output_type": "execute_result"
    },
    {
     "data": {
      "image/png": "[encoded data removed]",
      "text/plain": [
       "<Figure size 640x480 with 1 Axes>"
      ]
     },
     "metadata": {},
     "output_type": "display_data"
    }
   ],
   "source": [
    "sns.countplot(y=\"original_language\",\n",
    "              order=total_de_outros_filmes_por_lingua.index,\n",
    "              stat=\"percent\",\n",
    "             data=tmdb.query(\"original_language != 'en'\"))\n",
    "plt.title(\"Distribuição dos filmes com lingua original diferente da inglesa\")"
   ]
  },
  {
   "cell_type": "markdown",
   "id": "d3aa44f4-70a8-4b87-9b7b-ce0f595194a1",
   "metadata": {},
   "source": [
    "podemos configurar o tamanho de um gráfico através do figsize"
   ]
  },
  {
   "cell_type": "code",
   "execution_count": 104,
   "id": "136e0e4f-a2d0-4c75-a097-e78bc912e104",
   "metadata": {},
   "outputs": [
    {
     "data": {
      "text/plain": [
       "Text(0.5, 1.0, 'Distribuição dos filmes com lingua original diferente da inglesa')"
      ]
     },
     "execution_count": 104,
     "metadata": {},
     "output_type": "execute_result"
    },
    {
     "data": {
      "image/png": "[encoded data removed]",
      "text/plain": [
       "<Figure size 1600x800 with 1 Axes>"
      ]
     },
     "metadata": {},
     "output_type": "display_data"
    }
   ],
   "source": [
    "plt.figure(figsize=(16, 8))\n",
    "sns.countplot(y=\"original_language\",\n",
    "              order=total_de_outros_filmes_por_lingua.index,\n",
    "              stat=\"percent\",\n",
    "             data=tmdb.query(\"original_language != 'en'\"))\n",
    "plt.title(\"Distribuição dos filmes com lingua original diferente da inglesa\")"
   ]
  },
  {
   "cell_type": "markdown",
   "id": "c314cac1-2865-41cf-9771-b9d5654b3ef0",
   "metadata": {},
   "source": [
    "<h2>5. Estatísticas</h2>"
   ]
  },
  {
   "cell_type": "markdown",
   "id": "70260bce-679c-43ea-b7fd-e5b35588828e",
   "metadata": {},
   "source": [
    "Voltando ao DataFrame notas, queros extrair os notas de alguns filmes específicos para obter estatísticas sobre a nota de cada um, de inicio vamos extrair a média, então faremos"
   ]
  },
  {
   "cell_type": "code",
   "execution_count": 108,
   "id": "4d0b2107-b63f-4fd7-a11d-1bd3575bbff3",
   "metadata": {},
   "outputs": [
    {
     "name": "stdout",
     "output_type": "stream",
     "text": [
      "3.9209302325581397 3.4318181818181817\n"
     ]
    }
   ],
   "source": [
    "notas_filme1 = notas.query(\"filmeId == 1\")[\"nota\"]\n",
    "notas_filme2 = notas.query(\"filmeId == 2\")[\"nota\"]\n",
    "media_filme1 = notas_filme1.mean()\n",
    "media_filme2 = notas_filme2.mean()\n",
    "print(media_filme1, media_filme2)"
   ]
  },
  {
   "cell_type": "markdown",
   "id": "415c7239-1b13-44e7-9bcb-103691b07601",
   "metadata": {},
   "source": [
    "<h2>Numpy</h2>"
   ]
  },
  {
   "cell_type": "markdown",
   "id": "66da99a8-f220-4f3a-8e99-580b6921a49d",
   "metadata": {},
   "source": [
    "Numpy é uma biblioteca em Python para computação científica e análise de dados, muito usada para operações com arrays e matrizes de grandes dimensões, por isso iremos usala para extrairmos algumas estatísticas do nosso dataset, tais como média, mediana e desvio padrão"
   ]
  },
  {
   "cell_type": "code",
   "execution_count": 109,
   "id": "aae6ddad-d301-483f-aa41-d233f7628131",
   "metadata": {},
   "outputs": [],
   "source": [
    "import numpy as np"
   ]
  },
  {
   "cell_type": "code",
   "execution_count": 119,
   "id": "369d43d0-065f-4d21-bcd3-b26b0960e656",
   "metadata": {},
   "outputs": [],
   "source": [
    "media_filme1 = np.mean(notas_filme1)\n",
    "mediana_filme1 = np.median(notas_filme1)\n",
    "desvio_padrao_filme1 = np.std(notas_filme1)\n",
    "\n",
    "media_filme2 = np.mean(notas_filme2)\n",
    "mediana_filme2 = np.median(notas_filme2)\n",
    "desvio_padrao_filme2 = np.std(notas_filme2)]"
   ]
  },
  {
   "cell_type": "code",
   "execution_count": 128,
   "id": "ac5e8b7e-8962-4f5f-8f0b-06d082419f50",
   "metadata": {},
   "outputs": [
    {
     "name": "stdout",
     "output_type": "stream",
     "text": [
      "Media do filme 1 3.9209302325581397\n",
      "Mediana do filme 1 4.0\n",
      "Desvio padrão do filme 1 0.8329153449641147\n",
      "Media do filme 2 3.4318181818181817\n",
      "Mediana do filme 2 3.5\n",
      "Desvio padrão do filme 2 0.8776965532969933\n"
     ]
    }
   ],
   "source": [
    "print(f\"Media do filme 1 {media_filme1}\")\n",
    "print(f\"Mediana do filme 1 {mediana_filme1}\")\n",
    "print(f\"Desvio padrão do filme 1 {desvio_padrao_filme1}\")\n",
    "print(f\"Media do filme 2 {media_filme2}\")\n",
    "print(f\"Mediana do filme 2 {mediana_filme2}\")\n",
    "print(f\"Desvio padrão do filme 2 {desvio_padrao_filme2}\")"
   ]
  },
  {
   "cell_type": "markdown",
   "id": "f6c94d35-e330-4019-8b11-0c06d28aa4d4",
   "metadata": {},
   "source": [
    "vamos analisar isso graficamente através de um boxplot"
   ]
  },
  {
   "cell_type": "code",
   "execution_count": 135,
   "id": "8040f556-7f11-4f09-9e74-2ed47b250a90",
   "metadata": {},
   "outputs": [
    {
     "data": {
      "text/plain": [
       "<AxesSubplot:xlabel='filmeId', ylabel='nota'>"
      ]
     },
     "execution_count": 135,
     "metadata": {},
     "output_type": "execute_result"
    },
    {
     "data": {
      "image/png": "[encoded data removed]",
      "text/plain": [
       "<Figure size 640x480 with 1 Axes>"
      ]
     },
     "metadata": {},
     "output_type": "display_data"
    }
   ],
   "source": [
    "sns.boxplot(data = notas.query(\"filmeId in [1,2]\"),\n",
    "            x = \"filmeId\",\n",
    "            y = \"nota\")"
   ]
  },
  {
   "cell_type": "code",
   "execution_count": null,
   "id": "5c0ee460-24de-47bc-83c7-c76ad23addf8",
   "metadata": {},
   "outputs": [],
   "source": []
  }
 ],
 "metadata": {
  "celltoolbar": "Raw Cell Format",
  "kernelspec": {
   "display_name": "eri_ambiente",
   "language": "python",
   "name": "eri_ambiente"
  },
  "language_info": {
   "codemirror_mode": {
    "name": "ipython",
    "version": 3
   },
   "file_extension": ".py",
   "mimetype": "text/x-python",
   "name": "python",
   "nbconvert_exporter": "python",
   "pygments_lexer": "ipython3",
   "version": "3.12.3"
  }
 },
 "nbformat": 4,
 "nbformat_minor": 5
}
